{
 "cells": [
  {
   "cell_type": "raw",
   "id": "33dd6c4c",
   "metadata": {},
   "source": [
    "---\n",
    "title: \"Project Code\"\n",
    "subtitle: Team name\n",
    "author: Alanda Zong, Juno Park, Luke Lilienthal\n",
    "date: 05/23/2023\n",
    "number-sections: true\n",
    "abstract: _This file contains the code for the project on predicting tumor types, as part of the STAT303-3 course in Spring 2023_.\n",
    "format: \n",
    "  html:\n",
    "    toc: true\n",
    "    toc-title: Contents\n",
    "    self-contained: true\n",
    "    font-size: 100%\n",
    "    toc-depth: 4\n",
    "    mainfont: serif\n",
    "jupyter: python3\n",
    "---"
   ]
  },
  {
   "cell_type": "markdown",
   "id": "aba5ee91",
   "metadata": {},
   "source": [
    "## Length of the code {-}\n",
    "No restriction\n",
    "\n",
    "**Delete this section from the report, when using this template.** "
   ]
  },
  {
   "cell_type": "code",
   "execution_count": 2,
   "id": "e19c973e",
   "metadata": {},
   "outputs": [],
   "source": [
    "import pandas as pd\n",
    "import numpy as np\n",
    "import seaborn as sns\n",
    "import matplotlib.pyplot as plt\n",
    "from sklearn.metrics import mean_squared_error\n",
    "from sklearn.model_selection import cross_val_score,train_test_split\n",
    "from sklearn.model_selection import StratifiedKFold, KFold, cross_val_predict\n",
    "from sklearn.tree import DecisionTreeRegressor,DecisionTreeClassifier\n",
    "from sklearn.model_selection import GridSearchCV, ParameterGrid\n",
    "from sklearn.ensemble import BaggingRegressor,BaggingClassifier, RandomForestClassifier\n",
    "from sklearn.linear_model import LinearRegression,LogisticRegression\n",
    "from sklearn.neighbors import KNeighborsRegressor\n",
    "from sklearn.metrics import roc_curve, precision_recall_curve, auc, make_scorer, recall_score, \\\n",
    "accuracy_score, precision_score, confusion_matrix, mean_squared_error, r2_score\n",
    "from sklearn.linear_model import LogisticRegression"
   ]
  },
  {
   "cell_type": "markdown",
   "id": "fe7ea9bb",
   "metadata": {},
   "source": [
    "## Data quality check / cleaning / preparation \n",
    "\n",
    "Put code with comments. The comments should explain the code such that it can be easily understood. You may put text *(in a markdown cell)* before a large chunk of code to explain the overall purpose of the code, if it is not intuitive. **Put the name of the person / persons who contributed to each code chunk / set of code chunks.** An example is given below."
   ]
  },
  {
   "cell_type": "code",
   "execution_count": 3,
   "id": "1b376282",
   "metadata": {},
   "outputs": [
    {
     "data": {
      "text/plain": [
       "(569, 33)"
      ]
     },
     "execution_count": 3,
     "metadata": {},
     "output_type": "execute_result"
    }
   ],
   "source": [
    "data = pd.read_csv(\"Cancer_Data.csv\")\n",
    "data.shape"
   ]
  },
  {
   "cell_type": "markdown",
   "id": "371a5a4a",
   "metadata": {},
   "source": [
    "### Distribution of response\n",
    "*By Juno Park*"
   ]
  },
  {
   "cell_type": "code",
   "execution_count": 10,
   "id": "b868f6b5",
   "metadata": {},
   "outputs": [
    {
     "data": {
      "text/plain": [
       "<AxesSubplot:xlabel='diagnosis', ylabel='count'>"
      ]
     },
     "execution_count": 10,
     "metadata": {},
     "output_type": "execute_result"
    },
    {
     "data": {
      "image/png": "[encoded data removed]",
      "text/plain": [
       "<Figure size 640x480 with 1 Axes>"
      ]
     },
     "metadata": {},
     "output_type": "display_data"
    }
   ],
   "source": [
    "# Plot for distribution of response\n",
    "sns.countplot(x=\"diagnosis\", data = data)"
   ]
  },
  {
   "cell_type": "markdown",
   "id": "ff6b5e83",
   "metadata": {},
   "source": [
    "### Data cleaning\n",
    "*By Juno Park*"
   ]
  },
  {
   "cell_type": "code",
   "execution_count": 5,
   "id": "25ddf4d3",
   "metadata": {},
   "outputs": [
    {
     "name": "stdout",
     "output_type": "stream",
     "text": [
      "         id diagnosis  radius_mean  texture_mean  perimeter_mean  area_mean  \\\n",
      "0    842302         M        17.99         10.38          122.80     1001.0   \n",
      "1    842517         M        20.57         17.77          132.90     1326.0   \n",
      "2  84300903         M        19.69         21.25          130.00     1203.0   \n",
      "3  84348301         M        11.42         20.38           77.58      386.1   \n",
      "4  84358402         M        20.29         14.34          135.10     1297.0   \n",
      "\n",
      "   smoothness_mean  compactness_mean  concavity_mean  concave points_mean  \\\n",
      "0          0.11840           0.27760          0.3001              0.14710   \n",
      "1          0.08474           0.07864          0.0869              0.07017   \n",
      "2          0.10960           0.15990          0.1974              0.12790   \n",
      "3          0.14250           0.28390          0.2414              0.10520   \n",
      "4          0.10030           0.13280          0.1980              0.10430   \n",
      "\n",
      "   ...  radius_worst  texture_worst  perimeter_worst  area_worst  \\\n",
      "0  ...         25.38          17.33           184.60      2019.0   \n",
      "1  ...         24.99          23.41           158.80      1956.0   \n",
      "2  ...         23.57          25.53           152.50      1709.0   \n",
      "3  ...         14.91          26.50            98.87       567.7   \n",
      "4  ...         22.54          16.67           152.20      1575.0   \n",
      "\n",
      "   smoothness_worst  compactness_worst  concavity_worst  concave points_worst  \\\n",
      "0            0.1622             0.6656           0.7119                0.2654   \n",
      "1            0.1238             0.1866           0.2416                0.1860   \n",
      "2            0.1444             0.4245           0.4504                0.2430   \n",
      "3            0.2098             0.8663           0.6869                0.2575   \n",
      "4            0.1374             0.2050           0.4000                0.1625   \n",
      "\n",
      "   symmetry_worst  fractal_dimension_worst  \n",
      "0          0.4601                  0.11890  \n",
      "1          0.2750                  0.08902  \n",
      "2          0.3613                  0.08758  \n",
      "3          0.6638                  0.17300  \n",
      "4          0.2364                  0.07678  \n",
      "\n",
      "[5 rows x 32 columns]\n",
      "no more N/As\n",
      "no more N/As\n",
      "(569, 32)\n"
     ]
    }
   ],
   "source": [
    "# drop any missing values\n",
    "data = data.drop(data.columns[data.columns.str.contains('unnamed',case = False)],axis = 1)\n",
    "print(data.head())\n",
    "\n",
    "rows = data[data.isnull().any(axis=1)]\n",
    "cols= data.columns[data.isnull().any()]\n",
    "\n",
    "if len(rows) == 0: \n",
    "    print('no more N/As')\n",
    "    \n",
    "if len(cols) == 0: \n",
    "    print('no more N/As')\n",
    "    \n",
    "print(data.shape)"
   ]
  },
  {
   "cell_type": "code",
   "execution_count": 6,
   "id": "10b7f417",
   "metadata": {},
   "outputs": [],
   "source": [
    "# Create a dummy variable for the response\n",
    "data['diagnosis_dummy'] = 0\n",
    "data.loc[data['diagnosis'] == 'M', 'diagnosis_dummy'] = 1"
   ]
  },
  {
   "cell_type": "code",
   "execution_count": 7,
   "id": "a8d222f3",
   "metadata": {},
   "outputs": [],
   "source": [
    "# Split data in 80% train 20% test\n",
    "X = data.drop(columns = ['diagnosis', 'diagnosis_dummy', 'id'])\n",
    "y = data['diagnosis_dummy']\n",
    "\n",
    "X_train, X_test, y_train, y_test = train_test_split(X, y, test_size = 0.2, random_state = 1)"
   ]
  },
  {
   "cell_type": "markdown",
   "id": "424479b5",
   "metadata": {},
   "source": [
    "### Data preparation\n",
    "*By Ryu Kimiko*\n",
    "\n",
    "The following data preparation steps helped us to prepare our data for implementing various modeling / validation techniques:\n",
    "\n",
    "1. Since we need to predict house price, we derived some new predictors *(from existing predictors)* that intuitively seem to be helpuful to predict house price. \n",
    "\n",
    "2. We have created a standardized version of the dataset, as we will use it to develop Lasso / Ridge regression models."
   ]
  },
  {
   "cell_type": "code",
   "execution_count": 3,
   "id": "bde6859d",
   "metadata": {},
   "outputs": [],
   "source": [
    "######---------------Creating new predictors----------------#########\n",
    "\n",
    "#Creating number of bedrooms per unit floor area\n",
    "\n",
    "#Creating ratio of bathrooms to bedrooms\n",
    "\n",
    "#Creating ratio of carpet area to floor area"
   ]
  },
  {
   "cell_type": "code",
   "execution_count": null,
   "id": "edf0986d",
   "metadata": {},
   "outputs": [],
   "source": [
    "######-----Standardizing the dataset for Lasso / Ridge-------#########"
   ]
  },
  {
   "cell_type": "markdown",
   "id": "fbb11c9b",
   "metadata": {},
   "source": [
    "## Exploratory data analysis"
   ]
  },
  {
   "cell_type": "markdown",
   "id": "e4bd74a9",
   "metadata": {},
   "source": [
    "Put code with comments. The comments should explain the code such that it can be easily understood. You may put text *(in a markdown cell)* before a large chunk of code to explain the overall purpose of the code, if it is not intuitive. **Put the name of the person / persons who contributed to each code chunk / set of code chunks.**"
   ]
  },
  {
   "cell_type": "markdown",
   "id": "24848897",
   "metadata": {},
   "source": [
    "### Correlation Analysis\n",
    "*By Luke Lilienthal*"
   ]
  },
  {
   "cell_type": "code",
   "execution_count": 5,
   "id": "84a398cc",
   "metadata": {},
   "outputs": [
    {
     "data": {
      "image/png": "[encoded data removed]",
      "text/plain": [
       "<Figure size 432x288 with 2 Axes>"
      ]
     },
     "metadata": {
      "needs_background": "light"
     },
     "output_type": "display_data"
    },
    {
     "data": {
      "image/png": "[encoded data removed]",
      "text/plain": [
       "<Figure size 432x288 with 2 Axes>"
      ]
     },
     "metadata": {
      "needs_background": "light"
     },
     "output_type": "display_data"
    },
    {
     "data": {
      "image/png": "[encoded data removed]",
      "text/plain": [
       "<Figure size 432x288 with 2 Axes>"
      ]
     },
     "metadata": {
      "needs_background": "light"
     },
     "output_type": "display_data"
    }
   ],
   "source": [
    "# Within-Category Correlation Analysis\n",
    "\n",
    "#Take area for example\n",
    "area = data[['area_mean', 'area_se', 'area_worst']]\n",
    "sns.heatmap(area.corr())\n",
    "plt.show()\n",
    "\n",
    "radius = data[['radius_mean', 'radius_se', 'radius_worst']]\n",
    "sns.heatmap(radius.corr())\n",
    "plt.show()\n",
    "\n",
    "texture = data[['texture_mean', 'texture_se', 'texture_worst']]\n",
    "sns.heatmap(texture.corr())\n",
    "plt.show()"
   ]
  },
  {
   "cell_type": "code",
   "execution_count": 6,
   "id": "3d4f53fe",
   "metadata": {},
   "outputs": [
    {
     "data": {
      "text/plain": [
       "<matplotlib.axes._subplots.AxesSubplot at 0x7fa2a4334cf8>"
      ]
     },
     "execution_count": 6,
     "metadata": {},
     "output_type": "execute_result"
    },
    {
     "data": {
      "image/png": "[encoded data removed]",
      "text/plain": [
       "<Figure size 432x288 with 2 Axes>"
      ]
     },
     "metadata": {
      "needs_background": "light"
     },
     "output_type": "display_data"
    }
   ],
   "source": [
    "#General correlation analysis\n",
    "\n",
    "# Drop worst attribute of categories- as they are highly correlated with mean\n",
    "drops = data.drop(columns=['area_worst', 'radius_worst', 'texture_worst', 'perimeter_worst', 'smoothness_worst', 'compactness_worst', \n",
    "                           'concavity_worst', 'concave points_worst', 'symmetry_worst', 'fractal_dimension_worst'], axis=1)\n",
    "sns.heatmap(drops.corr())\n",
    "# Strong correlation between size metrics (area, radius, perimeter) - size metreics se also correlated\n",
    "# Many smaller but significant correlations <0.8 also present"
   ]
  },
  {
   "cell_type": "markdown",
   "id": "acab331a",
   "metadata": {},
   "source": [
    "## Developing the model: Hyperparameter tuning"
   ]
  },
  {
   "cell_type": "markdown",
   "id": "ae5ec4c9",
   "metadata": {},
   "source": [
    "Put code with comments. The comments should explain the code such that it can be easily understood. You may put text *(in a markdown cell)* before a large chunk of code to explain the overall purpose of the code, if it is not intuitive. **Put the name of the person / persons who contributed to each code chunk / set of code chunks.**\n",
    "\n",
    "Put each model in a section of its name and mention the name of the team-member tuning the model. Below is an example:"
   ]
  },
  {
   "cell_type": "markdown",
   "id": "21bc9dcc",
   "metadata": {},
   "source": [
    "### Decision Tree\n",
    "*By Juno Park*"
   ]
  },
  {
   "cell_type": "code",
   "execution_count": null,
   "id": "daf5d130",
   "metadata": {},
   "outputs": [],
   "source": [
    "# Naive Decision Tree Model\n",
    "model = DecisionTreeClassifier(random_state=1) \n",
    "\n",
    "model.fit(X_train, y_train)"
   ]
  },
  {
   "cell_type": "code",
   "execution_count": null,
   "id": "cf9dc58e",
   "metadata": {},
   "outputs": [],
   "source": [
    "# Maximum number of leaves\n",
    "model.get_n_leaves()"
   ]
  },
  {
   "cell_type": "code",
   "execution_count": null,
   "id": "5c276834",
   "metadata": {},
   "outputs": [],
   "source": [
    "# Maximum depth\n",
    "model.get_depth()"
   ]
  },
  {
   "cell_type": "code",
   "execution_count": null,
   "id": "982d4842",
   "metadata": {},
   "outputs": [],
   "source": [
    "# Grid search for optimal values\n",
    "param_grid = {    \n",
    "    'max_depth': range(2,5),\n",
    "    'max_leaf_nodes': range(2,14),\n",
    "    'max_features': range(1, 32)\n",
    "}\n",
    "\n",
    "#Grid search to optimize parameter values\n",
    "skf = StratifiedKFold(n_splits=5) # The folds are made by preserving the percentage of samples for each class.\n",
    "\n",
    "#Minimizing FNR is equivalent to maximizing recall\n",
    "grid_search = GridSearchCV(DecisionTreeClassifier(random_state=1), param_grid, scoring=['precision','recall'], \n",
    "                           refit=\"recall\", cv=skf, n_jobs=-1, verbose = True)\n",
    "grid_search.fit(X_train, y_train)\n",
    "\n",
    "y_pred = grid_search.predict(X_test)\n",
    "\n",
    "print('Train accuracy : %.3f'%grid_search.best_estimator_.score(X_train, y_train))\n",
    "print('Test accuracy : %.3f'%grid_search.best_estimator_.score(X_test, y_test))\n",
    "print('Best accuracy Through Grid Search : %.3f'%grid_search.best_score_)\n",
    "\n",
    "print('Best params for recall')\n",
    "print(grid_search.best_params_)"
   ]
  },
  {
   "cell_type": "code",
   "execution_count": null,
   "id": "4587b2a7",
   "metadata": {},
   "outputs": [],
   "source": [
    "# Fields best parameters\n",
    "model = DecisionTreeClassifier(random_state=1, max_depth = 2, max_leaf_nodes=3, max_features=2).fit(X_train, y_train)\n",
    "\n",
    "# cross val predict\n",
    "cross_val_ypred = cross_val_predict(DecisionTreeClassifier(random_state=1, max_depth = 2, \n",
    "                                                        max_leaf_nodes=3, max_features=5), X_train, \n",
    "                                              y_train, cv = 5, method = 'predict_proba')\n",
    "p, r, thresholds = precision_recall_curve(y_train, cross_val_ypred[:,1])\n",
    "\n",
    "# threshold values with precision and recall\n",
    "np.concatenate([thresholds.reshape(-1,1), p[:-1].reshape(-1,1), r[:-1].reshape(-1,1)], axis = 1)"
   ]
  },
  {
   "cell_type": "code",
   "execution_count": null,
   "id": "6cef4903",
   "metadata": {},
   "outputs": [],
   "source": [
    "# Performance metrics computation for the optimum decision threshold probability\n",
    "desired_threshold = 0.24444444 # maximize recall with decent precision\n",
    "\n",
    "y_pred_prob = model.predict_proba(X_test)[:,1] \n",
    "\n",
    "# Classifying observations in the positive class (y = 1) if the predicted probability is greater\n",
    "# than the desired decision threshold probability\n",
    "y_pred = y_pred_prob > desired_threshold\n",
    "y_pred = y_pred.astype(int)\n",
    "\n",
    "#Computing the accuracy\n",
    "print(\"Accuracy: \",accuracy_score(y_pred, y_test)*100)  \n",
    "\n",
    "#Computing the ROC-AUC\n",
    "fpr, tpr, auc_thresholds = roc_curve(y_test, y_pred_prob)\n",
    "print(\"ROC-AUC: \",auc(fpr, tpr))# AUC of ROC\n",
    "\n",
    "#Computing the precision and recall\n",
    "print(\"Precision: \", precision_score(y_test, y_pred))\n",
    "print(\"Recall: \", recall_score(y_test, y_pred))\n",
    "\n",
    "#Confusion matrix\n",
    "cm = pd.DataFrame(confusion_matrix(y_test, y_pred), \n",
    "                  columns=['Predicted 0', 'Predicted 1'], index = ['Actual 0', 'Actual 1'])\n",
    "sns.heatmap(cm, annot=True, cmap='Blues', fmt='g');"
   ]
  },
  {
   "cell_type": "markdown",
   "id": "017ca069",
   "metadata": {},
   "source": [
    "### Bagged trees\n",
    "*By Juno Park*"
   ]
  },
  {
   "cell_type": "code",
   "execution_count": null,
   "id": "6fc00afa",
   "metadata": {},
   "outputs": [],
   "source": [
    "# Bagged Trees coarse search\n",
    "params = {'base_estimator': [DecisionTreeClassifier(random_state = 1)],\n",
    "          'n_estimators': [150,200,250],\n",
    "          'max_samples': [0.5, 0.75, 1.0],\n",
    "          'max_features': [0.5, 0.75, 1.0],\n",
    "          'bootstrap': [True, False],\n",
    "          'bootstrap_features': [True, False]}\n",
    "\n",
    "cv = KFold(n_splits=5,shuffle=True,random_state=1)\n",
    "bagging_classifier_grid = GridSearchCV(BaggingClassifier(random_state=1, n_jobs=-1), \n",
    "                                      param_grid =params, cv=cv, n_jobs=-1, verbose=1,\n",
    "                                      scoring = ['precision', 'recall'], refit='recall')\n",
    "bagging_classifier_grid.fit(X_train, y_train)\n",
    "\n",
    "print('Train accuracy : %.3f'%bagging_classifier_grid.best_estimator_.score(X_train, y_train))\n",
    "print('Test accuracy : %.3f'%bagging_classifier_grid.best_estimator_.score(X_test, y_test))\n",
    "print('Best accuracy Through Grid Search : %.3f'%bagging_classifier_grid.best_score_)\n",
    "print('Best Parameters : ',bagging_classifier_grid.best_params_)"
   ]
  },
  {
   "cell_type": "code",
   "execution_count": null,
   "id": "cf267a69",
   "metadata": {},
   "outputs": [],
   "source": [
    "# Fields best parameters:\n",
    "model = BaggingClassifier(base_estimator=DecisionTreeClassifier(random_state=1), n_estimators=200, \n",
    "                          random_state=1,max_features=0.5,\n",
    "                        max_samples=1.0,n_jobs=-1,bootstrap=True,bootstrap_features=True).fit(X_train, y_train)\n",
    "\n",
    "prob = model.predict_proba(X_train)[:,1] \n",
    "results = pd.DataFrame(columns=['Threshold', 'Accuracy', 'Recall'])\n",
    "\n",
    "for t in np.arange(0.01, 1.01, 0.01):\n",
    "  pred = np.where(prob > t, 1, 0)\n",
    "  accuracy = accuracy_score(y_train, pred)\n",
    "  recall = recall_score(y_train, pred)\n",
    "  results = pd.concat([results, pd.DataFrame({'Threshold':t, 'Accuracy':accuracy, 'Recall':recall}, \n",
    "                                             index=[0])]).reset_index(drop=True)\n",
    "\n",
    "results.sort_values(['Recall', 'Accuracy'], ascending=False)"
   ]
  },
  {
   "cell_type": "code",
   "execution_count": null,
   "id": "0b60c59d",
   "metadata": {},
   "outputs": [],
   "source": [
    "# Finer grid search\n",
    "params = {'base_estimator': [DecisionTreeClassifier(random_state = 1)],\n",
    "          'n_estimators': [175, 200, 225],\n",
    "          'max_samples': [0.8, 0.9, 1.0],\n",
    "          'max_features': [0.4, 0.5, 0.6],\n",
    "          'bootstrap': [True, False],\n",
    "          'bootstrap_features': [True, False]}\n",
    "\n",
    "cv = KFold(n_splits=5,shuffle=True,random_state=1)\n",
    "bagging_classifier_grid = GridSearchCV(BaggingClassifier(random_state=1, n_jobs=-1), \n",
    "                                      param_grid =params, cv=cv, n_jobs=-1, verbose=1,\n",
    "                                      scoring = ['precision', 'recall'], refit='recall')\n",
    "bagging_classifier_grid.fit(X_train, y_train)\n",
    "\n",
    "print('Train accuracy : %.3f'%bagging_classifier_grid.best_estimator_.score(X_train, y_train))\n",
    "print('Test accuracy : %.3f'%bagging_classifier_grid.best_estimator_.score(X_test, y_test))\n",
    "print('Best accuracy Through Grid Search : %.3f'%bagging_classifier_grid.best_score_)\n",
    "print('Best Parameters : ',bagging_classifier_grid.best_params_)"
   ]
  },
  {
   "cell_type": "code",
   "execution_count": null,
   "id": "306e9338",
   "metadata": {},
   "outputs": [],
   "source": [
    "# Fields optimal parameters\n",
    "model = BaggingClassifier(base_estimator=DecisionTreeClassifier(random_state=1), n_estimators=200, \n",
    "                          random_state=1,max_features=0.5,\n",
    "                        max_samples=1.0,n_jobs=-1,bootstrap=True,bootstrap_features=True).fit(X_train, y_train)\n",
    "\n",
    "prob = model.predict_proba(X_train)[:,1] \n",
    "results = pd.DataFrame(columns=['Threshold', 'Accuracy', 'Recall'])\n",
    "\n",
    "for t in np.arange(0.01, 1.01, 0.01):\n",
    "  pred = np.where(prob > t, 1, 0)\n",
    "  accuracy = accuracy_score(y_train, pred)\n",
    "  recall = recall_score(y_train, pred)\n",
    "  results = pd.concat([results, pd.DataFrame({'Threshold':t, 'Accuracy':accuracy, 'Recall':recall}, \n",
    "                                             index=[0])]).reset_index(drop=True)\n",
    "\n",
    "results.sort_values(['Recall', 'Accuracy'], ascending=False)"
   ]
  },
  {
   "cell_type": "code",
   "execution_count": null,
   "id": "b57e74a3",
   "metadata": {},
   "outputs": [],
   "source": [
    "# Performance metrics computation for the optimum decision threshold probability\n",
    "desired_threshold = 0.24\n",
    "\n",
    "y_pred_prob = model.predict_proba(X_test)[:,1] \n",
    "\n",
    "# Classifying observations in the positive class (y = 1) if the predicted probability is greater\n",
    "# than the desired decision threshold probability\n",
    "y_pred = y_pred_prob > desired_threshold\n",
    "y_pred = y_pred.astype(int)\n",
    "\n",
    "#Computing the accuracy\n",
    "print(\"Accuracy: \",accuracy_score(y_pred, y_test)*100)  \n",
    "\n",
    "#Computing the ROC-AUC\n",
    "fpr, tpr, auc_thresholds = roc_curve(y_test, y_pred_prob)\n",
    "print(\"ROC-AUC: \",auc(fpr, tpr))# AUC of ROC\n",
    "\n",
    "#Computing the precision and recall\n",
    "print(\"Precision: \", precision_score(y_test, y_pred))\n",
    "print(\"Recall: \", recall_score(y_test, y_pred))\n",
    "\n",
    "#Confusion matrix\n",
    "cm = pd.DataFrame(confusion_matrix(y_test, y_pred), \n",
    "                  columns=['Predicted 0', 'Predicted 1'], index = ['Actual 0', 'Actual 1'])\n",
    "sns.heatmap(cm, annot=True, cmap='Blues', fmt='g');"
   ]
  },
  {
   "cell_type": "markdown",
   "id": "11cfe6ea",
   "metadata": {},
   "source": [
    "## Random forest\n",
    "*By Luke Lilienthal*"
   ]
  },
  {
   "cell_type": "code",
   "execution_count": 11,
   "id": "7f9cd106",
   "metadata": {},
   "outputs": [
    {
     "name": "stdout",
     "output_type": "stream",
     "text": [
      "Fitting 5 folds for each of 54 candidates, totalling 270 fits\n"
     ]
    },
    {
     "name": "stderr",
     "output_type": "stream",
     "text": [
      "/Users/lukelilienthal/opt/anaconda3/envs/main/lib/python3.6/site-packages/joblib/externals/loky/backend/utils.py:63: UserWarning: Failed to kill subprocesses on this platform. Please installpsutil: https://github.com/giampaolo/psutil\n",
      "Details:\n",
      "Traceback (most recent call last):\n",
      "  File \"/Users/lukelilienthal/opt/anaconda3/envs/main/lib/python3.6/site-packages/joblib/externals/loky/backend/utils.py\", line 59, in _kill_process_tree_without_psutil\n",
      "    _posix_recursive_kill(process.pid)\n",
      "  File \"/Users/lukelilienthal/opt/anaconda3/envs/main/lib/python3.6/site-packages/joblib/externals/loky/backend/utils.py\", line 111, in _posix_recursive_kill\n",
      "    [\"pgrep\", \"-P\", str(pid)], stderr=None, text=True\n",
      "  File \"/Users/lukelilienthal/opt/anaconda3/envs/main/lib/python3.6/subprocess.py\", line 356, in check_output\n",
      "    **kwargs).stdout\n",
      "  File \"/Users/lukelilienthal/opt/anaconda3/envs/main/lib/python3.6/subprocess.py\", line 423, in run\n",
      "    with Popen(*popenargs, **kwargs) as process:\n",
      "TypeError: __init__() got an unexpected keyword argument 'text'\n",
      "\n",
      "  \"Failed to kill subprocesses on this platform. Please install\"\n",
      "Exception in thread ExecutorManagerThread:\n",
      "Traceback (most recent call last):\n",
      "  File \"/Users/lukelilienthal/opt/anaconda3/envs/main/lib/python3.6/site-packages/joblib/externals/loky/backend/utils.py\", line 59, in _kill_process_tree_without_psutil\n",
      "    _posix_recursive_kill(process.pid)\n",
      "  File \"/Users/lukelilienthal/opt/anaconda3/envs/main/lib/python3.6/site-packages/joblib/externals/loky/backend/utils.py\", line 111, in _posix_recursive_kill\n",
      "    [\"pgrep\", \"-P\", str(pid)], stderr=None, text=True\n",
      "  File \"/Users/lukelilienthal/opt/anaconda3/envs/main/lib/python3.6/subprocess.py\", line 356, in check_output\n",
      "    **kwargs).stdout\n",
      "  File \"/Users/lukelilienthal/opt/anaconda3/envs/main/lib/python3.6/subprocess.py\", line 423, in run\n",
      "    with Popen(*popenargs, **kwargs) as process:\n",
      "TypeError: __init__() got an unexpected keyword argument 'text'\n",
      "\n",
      "During handling of the above exception, another exception occurred:\n",
      "\n",
      "Traceback (most recent call last):\n",
      "  File \"/Users/lukelilienthal/opt/anaconda3/envs/main/lib/python3.6/threading.py\", line 916, in _bootstrap_inner\n",
      "    self.run()\n",
      "  File \"/Users/lukelilienthal/opt/anaconda3/envs/main/lib/python3.6/site-packages/joblib/externals/loky/process_executor.py\", line 569, in run\n",
      "    self.flag_executor_shutting_down()\n",
      "  File \"/Users/lukelilienthal/opt/anaconda3/envs/main/lib/python3.6/site-packages/joblib/externals/loky/process_executor.py\", line 769, in flag_executor_shutting_down\n",
      "    self.kill_workers(reason=\"executor shutting down\")\n",
      "  File \"/Users/lukelilienthal/opt/anaconda3/envs/main/lib/python3.6/site-packages/joblib/externals/loky/process_executor.py\", line 779, in kill_workers\n",
      "    kill_process_tree(p)\n",
      "  File \"/Users/lukelilienthal/opt/anaconda3/envs/main/lib/python3.6/site-packages/joblib/externals/loky/backend/utils.py\", line 20, in kill_process_tree\n",
      "    _kill_process_tree_without_psutil(process)\n",
      "  File \"/Users/lukelilienthal/opt/anaconda3/envs/main/lib/python3.6/site-packages/joblib/externals/loky/backend/utils.py\", line 72, in _kill_process_tree_without_psutil\n",
      "    process.kill()\n",
      "AttributeError: 'LokyProcess' object has no attribute 'kill'\n",
      "\n"
     ]
    },
    {
     "ename": "KeyboardInterrupt",
     "evalue": "",
     "output_type": "error",
     "traceback": [
      "\u001b[0;31m---------------------------------------------------------------------------\u001b[0m",
      "\u001b[0;31mKeyboardInterrupt\u001b[0m                         Traceback (most recent call last)",
      "\u001b[0;32m<ipython-input-11-8828cf6c341a>\u001b[0m in \u001b[0;36m<module>\u001b[0;34m\u001b[0m\n\u001b[1;32m     10\u001b[0m                                       param_grid =params, cv=cv, n_jobs=-1, verbose=1, scoring = ['accuracy', 'recall'], refit='accuracy')\n\u001b[1;32m     11\u001b[0m \u001b[0;34m\u001b[0m\u001b[0m\n\u001b[0;32m---> 12\u001b[0;31m \u001b[0mrf\u001b[0m\u001b[0;34m.\u001b[0m\u001b[0mfit\u001b[0m\u001b[0;34m(\u001b[0m\u001b[0mX_train\u001b[0m\u001b[0;34m,\u001b[0m \u001b[0my_train\u001b[0m\u001b[0;34m)\u001b[0m\u001b[0;34m\u001b[0m\u001b[0;34m\u001b[0m\u001b[0m\n\u001b[0m\u001b[1;32m     13\u001b[0m \u001b[0;34m\u001b[0m\u001b[0m\n\u001b[1;32m     14\u001b[0m \u001b[0mprint\u001b[0m\u001b[0;34m(\u001b[0m\u001b[0;34m'Best Parameters : '\u001b[0m\u001b[0;34m,\u001b[0m\u001b[0mrf\u001b[0m\u001b[0;34m.\u001b[0m\u001b[0mbest_params_\u001b[0m\u001b[0;34m)\u001b[0m\u001b[0;34m\u001b[0m\u001b[0;34m\u001b[0m\u001b[0m\n",
      "\u001b[0;32m~/opt/anaconda3/envs/main/lib/python3.6/site-packages/sklearn/utils/validation.py\u001b[0m in \u001b[0;36minner_f\u001b[0;34m(*args, **kwargs)\u001b[0m\n\u001b[1;32m     61\u001b[0m             \u001b[0mextra_args\u001b[0m \u001b[0;34m=\u001b[0m \u001b[0mlen\u001b[0m\u001b[0;34m(\u001b[0m\u001b[0margs\u001b[0m\u001b[0;34m)\u001b[0m \u001b[0;34m-\u001b[0m \u001b[0mlen\u001b[0m\u001b[0;34m(\u001b[0m\u001b[0mall_args\u001b[0m\u001b[0;34m)\u001b[0m\u001b[0;34m\u001b[0m\u001b[0;34m\u001b[0m\u001b[0m\n\u001b[1;32m     62\u001b[0m             \u001b[0;32mif\u001b[0m \u001b[0mextra_args\u001b[0m \u001b[0;34m<=\u001b[0m \u001b[0;36m0\u001b[0m\u001b[0;34m:\u001b[0m\u001b[0;34m\u001b[0m\u001b[0;34m\u001b[0m\u001b[0m\n\u001b[0;32m---> 63\u001b[0;31m                 \u001b[0;32mreturn\u001b[0m \u001b[0mf\u001b[0m\u001b[0;34m(\u001b[0m\u001b[0;34m*\u001b[0m\u001b[0margs\u001b[0m\u001b[0;34m,\u001b[0m \u001b[0;34m**\u001b[0m\u001b[0mkwargs\u001b[0m\u001b[0;34m)\u001b[0m\u001b[0;34m\u001b[0m\u001b[0;34m\u001b[0m\u001b[0m\n\u001b[0m\u001b[1;32m     64\u001b[0m \u001b[0;34m\u001b[0m\u001b[0m\n\u001b[1;32m     65\u001b[0m             \u001b[0;31m# extra_args > 0\u001b[0m\u001b[0;34m\u001b[0m\u001b[0;34m\u001b[0m\u001b[0;34m\u001b[0m\u001b[0m\n",
      "\u001b[0;32m~/opt/anaconda3/envs/main/lib/python3.6/site-packages/sklearn/model_selection/_search.py\u001b[0m in \u001b[0;36mfit\u001b[0;34m(self, X, y, groups, **fit_params)\u001b[0m\n\u001b[1;32m    839\u001b[0m                 \u001b[0;32mreturn\u001b[0m \u001b[0mresults\u001b[0m\u001b[0;34m\u001b[0m\u001b[0;34m\u001b[0m\u001b[0m\n\u001b[1;32m    840\u001b[0m \u001b[0;34m\u001b[0m\u001b[0m\n\u001b[0;32m--> 841\u001b[0;31m             \u001b[0mself\u001b[0m\u001b[0;34m.\u001b[0m\u001b[0m_run_search\u001b[0m\u001b[0;34m(\u001b[0m\u001b[0mevaluate_candidates\u001b[0m\u001b[0;34m)\u001b[0m\u001b[0;34m\u001b[0m\u001b[0;34m\u001b[0m\u001b[0m\n\u001b[0m\u001b[1;32m    842\u001b[0m \u001b[0;34m\u001b[0m\u001b[0m\n\u001b[1;32m    843\u001b[0m             \u001b[0;31m# multimetric is determined here because in the case of a callable\u001b[0m\u001b[0;34m\u001b[0m\u001b[0;34m\u001b[0m\u001b[0;34m\u001b[0m\u001b[0m\n",
      "\u001b[0;32m~/opt/anaconda3/envs/main/lib/python3.6/site-packages/sklearn/model_selection/_search.py\u001b[0m in \u001b[0;36m_run_search\u001b[0;34m(self, evaluate_candidates)\u001b[0m\n\u001b[1;32m   1294\u001b[0m     \u001b[0;32mdef\u001b[0m \u001b[0m_run_search\u001b[0m\u001b[0;34m(\u001b[0m\u001b[0mself\u001b[0m\u001b[0;34m,\u001b[0m \u001b[0mevaluate_candidates\u001b[0m\u001b[0;34m)\u001b[0m\u001b[0;34m:\u001b[0m\u001b[0;34m\u001b[0m\u001b[0;34m\u001b[0m\u001b[0m\n\u001b[1;32m   1295\u001b[0m         \u001b[0;34m\"\"\"Search all candidates in param_grid\"\"\"\u001b[0m\u001b[0;34m\u001b[0m\u001b[0;34m\u001b[0m\u001b[0m\n\u001b[0;32m-> 1296\u001b[0;31m         \u001b[0mevaluate_candidates\u001b[0m\u001b[0;34m(\u001b[0m\u001b[0mParameterGrid\u001b[0m\u001b[0;34m(\u001b[0m\u001b[0mself\u001b[0m\u001b[0;34m.\u001b[0m\u001b[0mparam_grid\u001b[0m\u001b[0;34m)\u001b[0m\u001b[0;34m)\u001b[0m\u001b[0;34m\u001b[0m\u001b[0;34m\u001b[0m\u001b[0m\n\u001b[0m\u001b[1;32m   1297\u001b[0m \u001b[0;34m\u001b[0m\u001b[0m\n\u001b[1;32m   1298\u001b[0m \u001b[0;34m\u001b[0m\u001b[0m\n",
      "\u001b[0;32m~/opt/anaconda3/envs/main/lib/python3.6/site-packages/sklearn/model_selection/_search.py\u001b[0m in \u001b[0;36mevaluate_candidates\u001b[0;34m(candidate_params, cv, more_results)\u001b[0m\n\u001b[1;32m    807\u001b[0m                                    (split_idx, (train, test)) in product(\n\u001b[1;32m    808\u001b[0m                                    \u001b[0menumerate\u001b[0m\u001b[0;34m(\u001b[0m\u001b[0mcandidate_params\u001b[0m\u001b[0;34m)\u001b[0m\u001b[0;34m,\u001b[0m\u001b[0;34m\u001b[0m\u001b[0;34m\u001b[0m\u001b[0m\n\u001b[0;32m--> 809\u001b[0;31m                                    enumerate(cv.split(X, y, groups))))\n\u001b[0m\u001b[1;32m    810\u001b[0m \u001b[0;34m\u001b[0m\u001b[0m\n\u001b[1;32m    811\u001b[0m                 \u001b[0;32mif\u001b[0m \u001b[0mlen\u001b[0m\u001b[0;34m(\u001b[0m\u001b[0mout\u001b[0m\u001b[0;34m)\u001b[0m \u001b[0;34m<\u001b[0m \u001b[0;36m1\u001b[0m\u001b[0;34m:\u001b[0m\u001b[0;34m\u001b[0m\u001b[0;34m\u001b[0m\u001b[0m\n",
      "\u001b[0;32m~/opt/anaconda3/envs/main/lib/python3.6/site-packages/joblib/parallel.py\u001b[0m in \u001b[0;36m__call__\u001b[0;34m(self, iterable)\u001b[0m\n\u001b[1;32m   1096\u001b[0m \u001b[0;34m\u001b[0m\u001b[0m\n\u001b[1;32m   1097\u001b[0m             \u001b[0;32mwith\u001b[0m \u001b[0mself\u001b[0m\u001b[0;34m.\u001b[0m\u001b[0m_backend\u001b[0m\u001b[0;34m.\u001b[0m\u001b[0mretrieval_context\u001b[0m\u001b[0;34m(\u001b[0m\u001b[0;34m)\u001b[0m\u001b[0;34m:\u001b[0m\u001b[0;34m\u001b[0m\u001b[0;34m\u001b[0m\u001b[0m\n\u001b[0;32m-> 1098\u001b[0;31m                 \u001b[0mself\u001b[0m\u001b[0;34m.\u001b[0m\u001b[0mretrieve\u001b[0m\u001b[0;34m(\u001b[0m\u001b[0;34m)\u001b[0m\u001b[0;34m\u001b[0m\u001b[0;34m\u001b[0m\u001b[0m\n\u001b[0m\u001b[1;32m   1099\u001b[0m             \u001b[0;31m# Make sure that we get a last message telling us we are done\u001b[0m\u001b[0;34m\u001b[0m\u001b[0;34m\u001b[0m\u001b[0;34m\u001b[0m\u001b[0m\n\u001b[1;32m   1100\u001b[0m             \u001b[0melapsed_time\u001b[0m \u001b[0;34m=\u001b[0m \u001b[0mtime\u001b[0m\u001b[0;34m.\u001b[0m\u001b[0mtime\u001b[0m\u001b[0;34m(\u001b[0m\u001b[0;34m)\u001b[0m \u001b[0;34m-\u001b[0m \u001b[0mself\u001b[0m\u001b[0;34m.\u001b[0m\u001b[0m_start_time\u001b[0m\u001b[0;34m\u001b[0m\u001b[0;34m\u001b[0m\u001b[0m\n",
      "\u001b[0;32m~/opt/anaconda3/envs/main/lib/python3.6/site-packages/joblib/parallel.py\u001b[0m in \u001b[0;36mretrieve\u001b[0;34m(self)\u001b[0m\n\u001b[1;32m    973\u001b[0m             \u001b[0;32mtry\u001b[0m\u001b[0;34m:\u001b[0m\u001b[0;34m\u001b[0m\u001b[0;34m\u001b[0m\u001b[0m\n\u001b[1;32m    974\u001b[0m                 \u001b[0;32mif\u001b[0m \u001b[0mgetattr\u001b[0m\u001b[0;34m(\u001b[0m\u001b[0mself\u001b[0m\u001b[0;34m.\u001b[0m\u001b[0m_backend\u001b[0m\u001b[0;34m,\u001b[0m \u001b[0;34m'supports_timeout'\u001b[0m\u001b[0;34m,\u001b[0m \u001b[0;32mFalse\u001b[0m\u001b[0;34m)\u001b[0m\u001b[0;34m:\u001b[0m\u001b[0;34m\u001b[0m\u001b[0;34m\u001b[0m\u001b[0m\n\u001b[0;32m--> 975\u001b[0;31m                     \u001b[0mself\u001b[0m\u001b[0;34m.\u001b[0m\u001b[0m_output\u001b[0m\u001b[0;34m.\u001b[0m\u001b[0mextend\u001b[0m\u001b[0;34m(\u001b[0m\u001b[0mjob\u001b[0m\u001b[0;34m.\u001b[0m\u001b[0mget\u001b[0m\u001b[0;34m(\u001b[0m\u001b[0mtimeout\u001b[0m\u001b[0;34m=\u001b[0m\u001b[0mself\u001b[0m\u001b[0;34m.\u001b[0m\u001b[0mtimeout\u001b[0m\u001b[0;34m)\u001b[0m\u001b[0;34m)\u001b[0m\u001b[0;34m\u001b[0m\u001b[0;34m\u001b[0m\u001b[0m\n\u001b[0m\u001b[1;32m    976\u001b[0m                 \u001b[0;32melse\u001b[0m\u001b[0;34m:\u001b[0m\u001b[0;34m\u001b[0m\u001b[0;34m\u001b[0m\u001b[0m\n\u001b[1;32m    977\u001b[0m                     \u001b[0mself\u001b[0m\u001b[0;34m.\u001b[0m\u001b[0m_output\u001b[0m\u001b[0;34m.\u001b[0m\u001b[0mextend\u001b[0m\u001b[0;34m(\u001b[0m\u001b[0mjob\u001b[0m\u001b[0;34m.\u001b[0m\u001b[0mget\u001b[0m\u001b[0;34m(\u001b[0m\u001b[0;34m)\u001b[0m\u001b[0;34m)\u001b[0m\u001b[0;34m\u001b[0m\u001b[0;34m\u001b[0m\u001b[0m\n",
      "\u001b[0;32m~/opt/anaconda3/envs/main/lib/python3.6/site-packages/joblib/_parallel_backends.py\u001b[0m in \u001b[0;36mwrap_future_result\u001b[0;34m(future, timeout)\u001b[0m\n\u001b[1;32m    565\u001b[0m         AsyncResults.get from multiprocessing.\"\"\"\n\u001b[1;32m    566\u001b[0m         \u001b[0;32mtry\u001b[0m\u001b[0;34m:\u001b[0m\u001b[0;34m\u001b[0m\u001b[0;34m\u001b[0m\u001b[0m\n\u001b[0;32m--> 567\u001b[0;31m             \u001b[0;32mreturn\u001b[0m \u001b[0mfuture\u001b[0m\u001b[0;34m.\u001b[0m\u001b[0mresult\u001b[0m\u001b[0;34m(\u001b[0m\u001b[0mtimeout\u001b[0m\u001b[0;34m=\u001b[0m\u001b[0mtimeout\u001b[0m\u001b[0;34m)\u001b[0m\u001b[0;34m\u001b[0m\u001b[0;34m\u001b[0m\u001b[0m\n\u001b[0m\u001b[1;32m    568\u001b[0m         \u001b[0;32mexcept\u001b[0m \u001b[0mCfTimeoutError\u001b[0m \u001b[0;32mas\u001b[0m \u001b[0me\u001b[0m\u001b[0;34m:\u001b[0m\u001b[0;34m\u001b[0m\u001b[0;34m\u001b[0m\u001b[0m\n\u001b[1;32m    569\u001b[0m             \u001b[0;32mraise\u001b[0m \u001b[0mTimeoutError\u001b[0m \u001b[0;32mfrom\u001b[0m \u001b[0me\u001b[0m\u001b[0;34m\u001b[0m\u001b[0;34m\u001b[0m\u001b[0m\n",
      "\u001b[0;32m~/opt/anaconda3/envs/main/lib/python3.6/concurrent/futures/_base.py\u001b[0m in \u001b[0;36mresult\u001b[0;34m(self, timeout)\u001b[0m\n\u001b[1;32m    425\u001b[0m                 \u001b[0;32mreturn\u001b[0m \u001b[0mself\u001b[0m\u001b[0;34m.\u001b[0m\u001b[0m__get_result\u001b[0m\u001b[0;34m(\u001b[0m\u001b[0;34m)\u001b[0m\u001b[0;34m\u001b[0m\u001b[0;34m\u001b[0m\u001b[0m\n\u001b[1;32m    426\u001b[0m \u001b[0;34m\u001b[0m\u001b[0m\n\u001b[0;32m--> 427\u001b[0;31m             \u001b[0mself\u001b[0m\u001b[0;34m.\u001b[0m\u001b[0m_condition\u001b[0m\u001b[0;34m.\u001b[0m\u001b[0mwait\u001b[0m\u001b[0;34m(\u001b[0m\u001b[0mtimeout\u001b[0m\u001b[0;34m)\u001b[0m\u001b[0;34m\u001b[0m\u001b[0;34m\u001b[0m\u001b[0m\n\u001b[0m\u001b[1;32m    428\u001b[0m \u001b[0;34m\u001b[0m\u001b[0m\n\u001b[1;32m    429\u001b[0m             \u001b[0;32mif\u001b[0m \u001b[0mself\u001b[0m\u001b[0;34m.\u001b[0m\u001b[0m_state\u001b[0m \u001b[0;32min\u001b[0m \u001b[0;34m[\u001b[0m\u001b[0mCANCELLED\u001b[0m\u001b[0;34m,\u001b[0m \u001b[0mCANCELLED_AND_NOTIFIED\u001b[0m\u001b[0;34m]\u001b[0m\u001b[0;34m:\u001b[0m\u001b[0;34m\u001b[0m\u001b[0;34m\u001b[0m\u001b[0m\n",
      "\u001b[0;32m~/opt/anaconda3/envs/main/lib/python3.6/threading.py\u001b[0m in \u001b[0;36mwait\u001b[0;34m(self, timeout)\u001b[0m\n\u001b[1;32m    293\u001b[0m         \u001b[0;32mtry\u001b[0m\u001b[0;34m:\u001b[0m    \u001b[0;31m# restore state no matter what (e.g., KeyboardInterrupt)\u001b[0m\u001b[0;34m\u001b[0m\u001b[0;34m\u001b[0m\u001b[0m\n\u001b[1;32m    294\u001b[0m             \u001b[0;32mif\u001b[0m \u001b[0mtimeout\u001b[0m \u001b[0;32mis\u001b[0m \u001b[0;32mNone\u001b[0m\u001b[0;34m:\u001b[0m\u001b[0;34m\u001b[0m\u001b[0;34m\u001b[0m\u001b[0m\n\u001b[0;32m--> 295\u001b[0;31m                 \u001b[0mwaiter\u001b[0m\u001b[0;34m.\u001b[0m\u001b[0macquire\u001b[0m\u001b[0;34m(\u001b[0m\u001b[0;34m)\u001b[0m\u001b[0;34m\u001b[0m\u001b[0;34m\u001b[0m\u001b[0m\n\u001b[0m\u001b[1;32m    296\u001b[0m                 \u001b[0mgotit\u001b[0m \u001b[0;34m=\u001b[0m \u001b[0;32mTrue\u001b[0m\u001b[0;34m\u001b[0m\u001b[0;34m\u001b[0m\u001b[0m\n\u001b[1;32m    297\u001b[0m             \u001b[0;32melse\u001b[0m\u001b[0;34m:\u001b[0m\u001b[0;34m\u001b[0m\u001b[0;34m\u001b[0m\u001b[0m\n",
      "\u001b[0;31mKeyboardInterrupt\u001b[0m: "
     ]
    }
   ],
   "source": [
    "# RANDOM FOREST COARSE SEARCH\n",
    "params = {'bootstrap': [False, True],\n",
    "         'max_features': [0.3, 0.5, 0.8],\n",
    "          'max_depth': [12,15,18],\n",
    "          'max_leaf_nodes':[1100,1200,1300]}\n",
    "\n",
    "cv = KFold(n_splits=5,shuffle=True,random_state=1)\n",
    "\n",
    "rf = GridSearchCV(RandomForestClassifier(random_state=1, n_jobs=-1, n_estimators=500), \n",
    "                                      param_grid =params, cv=cv, n_jobs=-1, verbose=1, scoring = ['accuracy', 'recall'], refit='accuracy')\n",
    "\n",
    "rf.fit(X_train, y_train)\n",
    "\n",
    "print('Best Parameters : ',rf.best_params_)"
   ]
  },
  {
   "cell_type": "code",
   "execution_count": null,
   "id": "10fcf3bd",
   "metadata": {},
   "outputs": [],
   "source": [
    "#Fields best parameters:\n",
    "model = RandomForestClassifier(random_state=1, n_jobs=-1, n_estimators=500, \n",
    "                               max_features=0.5, bootstrap=True, max_depth=12, max_leaf_nodes=1100).fit(X_train, y_train)\n",
    "\n",
    "prob = model.predict_proba(X_train)[:,1] \n",
    "results = pd.DataFrame(columns=['Threshold', 'Accuracy', 'Recall'])\n",
    "\n",
    "for t in np.arange(0.01, 1.01, 0.01):\n",
    "  pred = np.where(prob > t, 1, 0)\n",
    "  accuracy = accuracy_score(y_train, pred)\n",
    "  recall = recall_score(y_train, pred)\n",
    "  results = pd.concat([results, pd.DataFrame({'Threshold':t, 'Accuracy':accuracy, 'Recall':recall}, \n",
    "                                             index=[0])]).reset_index(drop=True)\n",
    "\n",
    "results.sort_values(['Recall', 'Accuracy'], ascending=False)\n",
    "\n",
    "#0.18 gives 97.6% recall and 95.6% accuracy\n",
    "#0.01 gives 100% recall and 81.5% accuracy"
   ]
  },
  {
   "cell_type": "code",
   "execution_count": null,
   "id": "118efbb6",
   "metadata": {},
   "outputs": [],
   "source": [
    "# RANDOM FOREST FINE SEARCH\n",
    "params = {'bootstrap': [False, True],\n",
    "         'max_features': [0.35, 0.4, 0.45],\n",
    "          'max_depth': [5, 6, 7],\n",
    "          'max_leaf_nodes':[500,600, 700]}\n",
    "\n",
    "cv = KFold(n_splits=5,shuffle=True,random_state=1)\n",
    "\n",
    "rf = GridSearchCV(RandomForestClassifier(random_state=1, n_jobs=-1, n_estimators=500), \n",
    "                                      param_grid =params, cv=cv, n_jobs=-1, verbose=1, scoring = ['accuracy', 'recall'], refit='accuracy')\n",
    "\n",
    "rf.fit(X_train, y_train)\n",
    "\n",
    "print('Best Parameters : ',rf.best_params_)"
   ]
  },
  {
   "cell_type": "code",
   "execution_count": null,
   "id": "66cd31ef",
   "metadata": {},
   "outputs": [],
   "source": [
    "#Fields optimal fine parameters\n",
    "model = RandomForestClassifier(random_state=1, n_jobs=-1, n_estimators=500, \n",
    "                               max_features=0.4, bootstrap=True, max_depth=6, max_leaf_nodes=500).fit(X_train, y_train)\n",
    "\n",
    "prob = model.predict_proba(X_train)[:,1] \n",
    "results = pd.DataFrame(columns=['Threshold', 'Accuracy', 'Recall'])\n",
    "\n",
    "for t in np.arange(0.01, 1.01, 0.01):\n",
    "  pred = np.where(prob > t, 1, 0)\n",
    "  accuracy = accuracy_score(y_train, pred)\n",
    "  recall = recall_score(y_train, pred)\n",
    "  results = pd.concat([results, pd.DataFrame({'Threshold':t, 'Accuracy':accuracy, 'Recall':recall}, \n",
    "                                             index=[0])]).reset_index(drop=True)\n",
    "\n",
    "results.sort_values(['Recall', 'Accuracy'], ascending=False)\n",
    "\n",
    "#0.18 gives 97.6% recall and 97.3% accuracy\n",
    "#0.02 gives 100% recall and 83.3% accuracy"
   ]
  },
  {
   "cell_type": "code",
   "execution_count": null,
   "id": "28d2f526",
   "metadata": {},
   "outputs": [],
   "source": [
    "thr = 0.34\n",
    "y_pred_prob = model.predict_proba(X_test)[:,1] \n",
    "\n",
    "y_pred = y_pred_prob > thr\n",
    "y_pred = y_pred.astype(int)\n",
    "\n",
    "print(\"Accuracy: \",accuracy_score(y_pred, y_test)*100)  \n",
    "print(\"Recall: \", recall_score(y_test, y_pred))"
   ]
  },
  {
   "cell_type": "markdown",
   "id": "8d83560b",
   "metadata": {},
   "source": [
    "## AdaBoost\n",
    "*By Luke Lilienthal*"
   ]
  },
  {
   "cell_type": "code",
   "execution_count": null,
   "id": "c6c80e9f",
   "metadata": {},
   "outputs": [],
   "source": [
    "# ADA BOOST COARSE GRID\n",
    "model = AdaBoostClassifier(random_state=1)\n",
    "grid = dict()\n",
    "grid['n_estimators'] = [10, 50, 100,200,500]\n",
    "grid['learning_rate'] = [0.0001, 0.001, 0.01,0.1, 1.0]\n",
    "grid['base_estimator'] = [DecisionTreeClassifier(max_depth=1), DecisionTreeClassifier(max_depth=2), \n",
    "                          DecisionTreeClassifier(max_depth=3),DecisionTreeClassifier(max_depth=4)]\n",
    "\n",
    "# define the evaluation procedure\n",
    "cv = KFold(n_splits=5, shuffle=True, random_state=1)\n",
    "# define the grid search procedure\n",
    "grid_search = GridSearchCV(estimator=model, param_grid=grid, n_jobs=-1, cv=cv, \n",
    "                          verbose = True, scoring=['accuracy', 'recall'], refit='accuracy')\n",
    "# execute the grid search\n",
    "grid_result = grid_search.fit(X_train, y_train)\n",
    "# summarize the best score and configuration\n",
    "print(\"Best: %f using %s\" % (grid_result.best_score_, grid_result.best_params_))\n",
    "# summarize all scores that were evaluated\n",
    "\n",
    "params = grid_result.cv_results_['params']"
   ]
  },
  {
   "cell_type": "code",
   "execution_count": null,
   "id": "7effa45a",
   "metadata": {},
   "outputs": [],
   "source": [
    "model = AdaBoostClassifier(DecisionTreeClassifier(max_depth=1), learning_rate=1, n_estimators=200).fit(X_train, y_train)\n",
    "\n",
    "prob = model.predict_proba(X_train)[:,1] \n",
    "results = pd.DataFrame(columns=['Threshold', 'Accuracy', 'Recall'])\n",
    "\n",
    "for t in np.arange(0.01, 1.01, 0.01):\n",
    "  pred = np.where(prob > t, 1, 0)\n",
    "  accuracy = accuracy_score(y_train, pred)\n",
    "  recall = recall_score(y_train, pred)\n",
    "  results = pd.concat([results, pd.DataFrame({'Threshold':t, 'Accuracy':accuracy, 'Recall':recall}, \n",
    "                                             index=[0])]).reset_index(drop=True)\n",
    "\n",
    "results.sort_values(['Recall', 'Accuracy'], ascending=False)\n",
    "\n",
    "#Threshold 0.45 gives accuracy 96.5% with 100% recall - best "
   ]
  },
  {
   "cell_type": "code",
   "execution_count": null,
   "id": "604aa2d8",
   "metadata": {},
   "outputs": [],
   "source": [
    "# ADA BOOST FINE GRID SEARCH\n",
    "model = AdaBoostClassifier(random_state=1)\n",
    "grid = dict()\n",
    "grid['n_estimators'] = np.arange(100, 300, 10)\n",
    "grid['learning_rate'] = [1.0]\n",
    "grid['base_estimator'] = [DecisionTreeClassifier(max_depth=1)]\n",
    "\n",
    "# define the evaluation procedure\n",
    "cv = KFold(n_splits=5, shuffle=True, random_state=1)\n",
    "# define the grid search procedure\n",
    "grid_search = GridSearchCV(model, param_grid=grid, n_jobs=-1, cv=cv, \n",
    "                          verbose = True, scoring=['accuracy', 'recall'], refit='accuracy')\n",
    "# execute the grid search\n",
    "grid_result = grid_search.fit(X_train, y_train)\n",
    "# summarize the best score and configuration\n",
    "print(\"Best: %f using %s\" % (grid_result.best_score_, grid_result.best_params_))\n",
    "# summarize all scores that were evaluated\n",
    "\n",
    "params = grid_result.cv_results_['params']"
   ]
  },
  {
   "cell_type": "code",
   "execution_count": null,
   "id": "c2e5ba80",
   "metadata": {},
   "outputs": [],
   "source": [
    "model = AdaBoostClassifier(DecisionTreeClassifier(max_depth=1), learning_rate=1, n_estimators=190).fit(X_train, y_train)\n",
    "\n",
    "prob = model.predict_proba(X_train)[:,1] \n",
    "results = pd.DataFrame(columns=['Threshold', 'Accuracy', 'Recall'])\n",
    "\n",
    "for t in np.arange(0.01, 1.01, 0.01):\n",
    "  pred = np.where(prob > t, 1, 0)\n",
    "  accuracy = accuracy_score(y_train, pred)\n",
    "  recall = recall_score(y_train, pred)\n",
    "  results = pd.concat([results, pd.DataFrame({'Threshold':t, 'Accuracy':accuracy, 'Recall':recall}, \n",
    "                                             index=[0])]).reset_index(drop=True)\n",
    "\n",
    "results.sort_values(['Recall', 'Accuracy'], ascending=False)\n",
    "\n",
    "#Threshold 0.45 gives accuracy 97.3% with 100% recall - best "
   ]
  },
  {
   "cell_type": "code",
   "execution_count": null,
   "id": "f08fc1c7",
   "metadata": {},
   "outputs": [],
   "source": [
    "thr = 0.45\n",
    "y_pred_prob = model.predict_proba(X_test)[:,1] \n",
    "\n",
    "y_pred = y_pred_prob > thr\n",
    "y_pred = y_pred.astype(int)\n",
    "\n",
    "print(\"Accuracy: \",accuracy_score(y_pred, y_test)*100)  \n",
    "print(\"Recall: \", recall_score(y_test, y_pred))"
   ]
  },
  {
   "cell_type": "markdown",
   "id": "80fef315",
   "metadata": {},
   "source": [
    "# Gradient Boost\n",
    "*by Alanda Zong*"
   ]
  },
  {
   "cell_type": "code",
   "execution_count": 1,
   "id": "f4d1b9d9",
   "metadata": {},
   "outputs": [],
   "source": [
    "import pandas as pd\n",
    "import numpy as np\n",
    "import seaborn as sns\n",
    "import matplotlib.pyplot as plt\n",
    "from sklearn.metrics import mean_squared_error\n",
    "from sklearn.model_selection import cross_val_score,train_test_split, KFold, cross_val_predict\n",
    "from sklearn.metrics import mean_squared_error,r2_score,roc_curve,auc,precision_recall_curve, accuracy_score, \\\n",
    "recall_score, precision_score, confusion_matrix\n",
    "from sklearn.tree import DecisionTreeRegressor,DecisionTreeClassifier\n",
    "from sklearn.model_selection import GridSearchCV, ParameterGrid, StratifiedKFold\n",
    "from sklearn.ensemble import GradientBoostingRegressor,GradientBoostingClassifier, BaggingRegressor,BaggingClassifier,RandomForestRegressor,RandomForestClassifier,AdaBoostRegressor,AdaBoostClassifier\n",
    "from sklearn.linear_model import LinearRegression,LogisticRegression\n",
    "from sklearn.neighbors import KNeighborsRegressor\n",
    "import itertools as it\n",
    "import time as time"
   ]
  },
  {
   "cell_type": "code",
   "execution_count": 2,
   "id": "a35e5d41",
   "metadata": {},
   "outputs": [],
   "source": [
    "cancer = pd.read_csv(\"Cancer_Data.csv\")"
   ]
  },
  {
   "cell_type": "code",
   "execution_count": 3,
   "id": "075b101e",
   "metadata": {},
   "outputs": [
    {
     "name": "stdout",
     "output_type": "stream",
     "text": [
      "         id diagnosis  radius_mean  texture_mean  perimeter_mean  area_mean  \\\n",
      "0    842302         M        17.99         10.38          122.80     1001.0   \n",
      "1    842517         M        20.57         17.77          132.90     1326.0   \n",
      "2  84300903         M        19.69         21.25          130.00     1203.0   \n",
      "3  84348301         M        11.42         20.38           77.58      386.1   \n",
      "4  84358402         M        20.29         14.34          135.10     1297.0   \n",
      "\n",
      "   smoothness_mean  compactness_mean  concavity_mean  concave points_mean  \\\n",
      "0          0.11840           0.27760          0.3001              0.14710   \n",
      "1          0.08474           0.07864          0.0869              0.07017   \n",
      "2          0.10960           0.15990          0.1974              0.12790   \n",
      "3          0.14250           0.28390          0.2414              0.10520   \n",
      "4          0.10030           0.13280          0.1980              0.10430   \n",
      "\n",
      "   ...  radius_worst  texture_worst  perimeter_worst  area_worst  \\\n",
      "0  ...         25.38          17.33           184.60      2019.0   \n",
      "1  ...         24.99          23.41           158.80      1956.0   \n",
      "2  ...         23.57          25.53           152.50      1709.0   \n",
      "3  ...         14.91          26.50            98.87       567.7   \n",
      "4  ...         22.54          16.67           152.20      1575.0   \n",
      "\n",
      "   smoothness_worst  compactness_worst  concavity_worst  concave points_worst  \\\n",
      "0            0.1622             0.6656           0.7119                0.2654   \n",
      "1            0.1238             0.1866           0.2416                0.1860   \n",
      "2            0.1444             0.4245           0.4504                0.2430   \n",
      "3            0.2098             0.8663           0.6869                0.2575   \n",
      "4            0.1374             0.2050           0.4000                0.1625   \n",
      "\n",
      "   symmetry_worst  fractal_dimension_worst  \n",
      "0          0.4601                  0.11890  \n",
      "1          0.2750                  0.08902  \n",
      "2          0.3613                  0.08758  \n",
      "3          0.6638                  0.17300  \n",
      "4          0.2364                  0.07678  \n",
      "\n",
      "[5 rows x 32 columns]\n",
      "no more N/As\n",
      "no more N/As\n",
      "(569, 32)\n"
     ]
    }
   ],
   "source": [
    "cancer= cancer.drop(cancer.columns[cancer.columns.str.contains('unnamed',case = False)],axis = 1)\n",
    "print(cancer.head())\n",
    "\n",
    "rows = cancer[cancer.isnull().any(axis=1)]\n",
    "cols= cancer.columns[cancer.isnull().any()]\n",
    "\n",
    "if len(rows) == 0: \n",
    "    print('no more N/As')\n",
    "    \n",
    "if len(cols) == 0: \n",
    "    print('no more N/As')\n",
    "    \n",
    "print(cancer.shape)"
   ]
  },
  {
   "cell_type": "code",
   "execution_count": 4,
   "id": "7c70c1ed",
   "metadata": {},
   "outputs": [],
   "source": [
    "cancer[\"diagnosis\"] = cancer[\"diagnosis\"].map({\"M\": 1, \"B\": 0})\n",
    "\n",
    "y = cancer.diagnosis # response\n",
    "X = cancer.drop(\"diagnosis\", axis = 1) #predictors\n",
    "X_train, X_test, y_train, y_test = train_test_split(X, y, test_size = 0.2, random_state = 45)"
   ]
  },
  {
   "cell_type": "code",
   "execution_count": 5,
   "id": "ce4fa82b",
   "metadata": {},
   "outputs": [
    {
     "name": "stdout",
     "output_type": "stream",
     "text": [
      "Fitting 5 folds for each of 250 candidates, totalling 1250 fits\n",
      "Best: 0.964706 using {'learning_rate': 0.1, 'max_depth': 1, 'n_estimators': 200, 'subsample': 0.5}\n",
      "Time taken =  300.26746106147766 seconds\n"
     ]
    }
   ],
   "source": [
    "start_time = time.time()\n",
    "model = GradientBoostingClassifier(random_state=1)\n",
    "grid = dict()\n",
    "grid['n_estimators'] = [10, 50, 100,200,500]\n",
    "grid['learning_rate'] = [0.0001, 0.001, 0.01,0.1, 1.0]\n",
    "grid['max_depth'] = [1,2,3,4,5]\n",
    "grid['subsample'] = [0.5,1.0]\n",
    "# define the evaluation procedure\n",
    "cv = StratifiedKFold(n_splits=5, shuffle=True, random_state=1)\n",
    "# define the grid search procedure\n",
    "grid_search = GridSearchCV(estimator=model, param_grid=grid, n_jobs=-1, cv=cv, verbose = True, scoring = 'recall')\n",
    "# execute the grid search\n",
    "grid_result = grid_search.fit(X_train, y_train)\n",
    "# summarize the best score and configuration\n",
    "print(\"Best: %f using %s\" % (grid_result.best_score_, grid_result.best_params_))\n",
    "print(\"Time taken = \", time.time() - start_time, \"seconds\")"
   ]
  },
  {
   "cell_type": "code",
   "execution_count": 6,
   "id": "d3831db1",
   "metadata": {},
   "outputs": [],
   "source": [
    "from sklearn.metrics import accuracy_score, recall_score\n",
    "from sklearn.metrics import roc_curve, precision_recall_curve, auc, make_scorer, recall_score, \\\n",
    "accuracy_score, precision_score, confusion_matrix, mean_squared_error, r2_score\n",
    "\n",
    "#Model based on the optimal parameters\n",
    "model = GradientBoostingClassifier(random_state=1,max_depth=1,learning_rate=0.1,subsample=0.5,\n",
    "                          n_estimators=200).fit(X_train,y_train)\n",
    "\n",
    "# Note that we are using the cross-validated predicted probabilities, instead of directly using the \n",
    "# predicted probabilities on train data, as the model may be overfitting on the train data, and \n",
    "# may lead to misleading results\n",
    "cross_val_ypred = cross_val_predict(GradientBoostingClassifier(random_state=1,max_depth=1,\n",
    "                                                               learning_rate=0.1,subsample=0.5,\n",
    "                          n_estimators=200), X_train, y_train, cv = 5, method = 'predict_proba')\n",
    "\n",
    "p, r, thresholds = precision_recall_curve(y_train, cross_val_ypred[:,1])"
   ]
  },
  {
   "cell_type": "code",
   "execution_count": 7,
   "id": "833340c4",
   "metadata": {},
   "outputs": [
    {
     "data": {
      "text/plain": [
       "array([0.97086646, 1.        , 0.80588235])"
      ]
     },
     "execution_count": 7,
     "metadata": {},
     "output_type": "execute_result"
    }
   ],
   "source": [
    "# Thresholds with precision and recall\n",
    "all_thresholds = np.concatenate([thresholds.reshape(-1,1), p[:-1].reshape(-1,1), r[:-1].reshape(-1,1)], axis = 1)\n",
    "recall_more_than_80 = all_thresholds[all_thresholds[:,2]>0.8,:]\n",
    "# As the values in 'recall_more_than_80' are arranged in decreasing order of recall and increasing threshold,\n",
    "# the last value will provide the maximum threshold probability for the recall to be more than 80%\n",
    "# We wish to find the maximum threshold probability to obtain the maximum possible precision\n",
    "recall_more_than_80[recall_more_than_80.shape[0]-1]"
   ]
  },
  {
   "cell_type": "code",
   "execution_count": 8,
   "id": "8992190b",
   "metadata": {},
   "outputs": [
    {
     "name": "stdout",
     "output_type": "stream",
     "text": [
      "Accuracy:  97.36842105263158\n",
      "ROC-AUC:  0.9814814814814815\n",
      "Precision:  1.0\n",
      "Recall:  0.9285714285714286\n"
     ]
    },
    {
     "data": {
      "image/png": "[encoded data removed]",
      "text/plain": [
       "<Figure size 432x288 with 2 Axes>"
      ]
     },
     "metadata": {
      "needs_background": "light"
     },
     "output_type": "display_data"
    }
   ],
   "source": [
    "# Performance metrics computation for the optimum decision threshold probability\n",
    "desired_threshold = 0.80588235\n",
    "\n",
    "y_pred_prob = model.predict_proba(X_test)[:,1] \n",
    "\n",
    "# Classifying observations in the positive class (y = 1) if the predicted probability is greater\n",
    "# than the desired decision threshold probability\n",
    "y_pred = y_pred_prob > desired_threshold\n",
    "y_pred = y_pred.astype(int)\n",
    "\n",
    "#Computing the accuracy\n",
    "print(\"Accuracy: \",accuracy_score(y_pred, y_test)*100)  \n",
    "\n",
    "#Computing the ROC-AUC\n",
    "fpr, tpr, auc_thresholds = roc_curve(y_test, y_pred_prob)\n",
    "print(\"ROC-AUC: \",auc(fpr, tpr))# AUC of ROC\n",
    "\n",
    "#Computing the precision and recall\n",
    "print(\"Precision: \", precision_score(y_test, y_pred))\n",
    "print(\"Recall: \", recall_score(y_test, y_pred))\n",
    "\n",
    "#Confusion matrix\n",
    "cm = pd.DataFrame(confusion_matrix(y_test, y_pred), \n",
    "                  columns=['Predicted 0', 'Predicted 1'], index = ['Actual 0', 'Actual 1'])\n",
    "sns.heatmap(cm, annot=True, cmap='Blues', fmt='g');"
   ]
  },
  {
   "cell_type": "markdown",
   "id": "8182968b",
   "metadata": {},
   "source": [
    "# XGBoost"
   ]
  },
  {
   "cell_type": "code",
   "execution_count": 10,
   "id": "c1b19064",
   "metadata": {},
   "outputs": [
    {
     "name": "stdout",
     "output_type": "stream",
     "text": [
      "Fitting 5 folds for each of 64 candidates, totalling 320 fits\n"
     ]
    },
    {
     "name": "stderr",
     "output_type": "stream",
     "text": [
      "/Users/alandazong/opt/anaconda3/lib/python3.9/site-packages/xgboost/sklearn.py:1395: UserWarning: `use_label_encoder` is deprecated in 1.7.0.\n",
      "  warnings.warn(\"`use_label_encoder` is deprecated in 1.7.0.\")\n",
      "/Users/alandazong/opt/anaconda3/lib/python3.9/site-packages/xgboost/sklearn.py:1395: UserWarning: `use_label_encoder` is deprecated in 1.7.0.\n",
      "  warnings.warn(\"`use_label_encoder` is deprecated in 1.7.0.\")\n"
     ]
    },
    {
     "name": "stdout",
     "output_type": "stream",
     "text": [
      "{'gamma': 0.25, 'learning_rate': 0.1, 'max_depth': 1, 'n_estimators': 400, 'reg_lambda': 0.01, 'scale_pos_weight': 1.5} 0.9758241758241759\n",
      "Time taken =  0.9885791142781576  minutes\n"
     ]
    }
   ],
   "source": [
    "import xgboost as xgb\n",
    "\n",
    "start_time = time.time()\n",
    "param_grid = {'n_estimators':[100,400],\n",
    "                'max_depth': [1, 5],\n",
    "              'learning_rate': [0.01,0.1],\n",
    "               'gamma': [0.1,0.25],\n",
    "               'reg_lambda':[0.01,0.001],\n",
    "                'scale_pos_weight':[1.25,1.5]#Control the balance of positive and negative weights, useful for unbalanced classes. A typical value to consider: sum(negative instances) / sum(positive instances).\n",
    "             }\n",
    "\n",
    "cv = StratifiedKFold(n_splits=5,shuffle=True,random_state=1)\n",
    "optimal_params = GridSearchCV(estimator=xgb.XGBClassifier(objective = 'binary:logistic',random_state=1,\n",
    "                                                         use_label_encoder=False),\n",
    "                             param_grid = param_grid,\n",
    "                             scoring = 'accuracy',\n",
    "                             verbose = 1,\n",
    "                             n_jobs=-1,\n",
    "                             cv = cv)\n",
    "optimal_params.fit(X_train,y_train)\n",
    "print(optimal_params.best_params_,optimal_params.best_score_)\n",
    "print(\"Time taken = \", (time.time()-start_time)/60, \" minutes\")"
   ]
  },
  {
   "cell_type": "code",
   "execution_count": 11,
   "id": "535d72bd",
   "metadata": {},
   "outputs": [
    {
     "name": "stdout",
     "output_type": "stream",
     "text": [
      "Fitting 5 folds for each of 64 candidates, totalling 320 fits\n"
     ]
    },
    {
     "name": "stderr",
     "output_type": "stream",
     "text": [
      "/Users/alandazong/opt/anaconda3/lib/python3.9/site-packages/xgboost/sklearn.py:1395: UserWarning: `use_label_encoder` is deprecated in 1.7.0.\n",
      "  warnings.warn(\"`use_label_encoder` is deprecated in 1.7.0.\")\n"
     ]
    },
    {
     "name": "stdout",
     "output_type": "stream",
     "text": [
      "{'gamma': 0.25, 'learning_rate': 0.1, 'max_depth': 1, 'n_estimators': 400, 'reg_lambda': 0.01, 'scale_pos_weight': 1.5} 0.9758241758241759\n",
      "Time taken =  1.4298081994056702  minutes\n"
     ]
    }
   ],
   "source": [
    "start_time = time.time()\n",
    "param_grid = {'n_estimators':[400, 500],\n",
    "                'max_depth': [1, 5],\n",
    "              'learning_rate': [0.1, 0.5],\n",
    "               'gamma': [0.25, 0.5],\n",
    "               'reg_lambda':[0.01, 0.1],\n",
    "                'scale_pos_weight':[1.5, 1.75]#Control the balance of positive and negative weights, useful for unbalanced classes. A typical value to consider: sum(negative instances) / sum(positive instances).\n",
    "             }\n",
    "\n",
    "cv = StratifiedKFold(n_splits=5,shuffle=True,random_state=1)\n",
    "optimal_params = GridSearchCV(estimator=xgb.XGBClassifier(objective = 'binary:logistic',random_state=1,\n",
    "                                                         use_label_encoder=False),\n",
    "                             param_grid = param_grid,\n",
    "                             scoring = 'accuracy',\n",
    "                             verbose = 1,\n",
    "                             n_jobs=-1,\n",
    "                             cv = cv)\n",
    "optimal_params.fit(X_train,y_train)\n",
    "print(optimal_params.best_params_,optimal_params.best_score_)\n",
    "print(\"Time taken = \", (time.time()-start_time)/60, \" minutes\")"
   ]
  },
  {
   "cell_type": "code",
   "execution_count": 12,
   "id": "0e22f8c9",
   "metadata": {},
   "outputs": [],
   "source": [
    "\n",
    "from sklearn.metrics import accuracy_score, recall_score\n",
    "from sklearn.metrics import roc_curve, precision_recall_curve, auc, make_scorer, recall_score, \\\n",
    "accuracy_score, precision_score, confusion_matrix, mean_squared_error, r2_score\n",
    "\n",
    "#Model based on the optimal parameters\n",
    "model = xgb.XGBClassifier(objective = 'binary:logistic',random_state=1,gamma=0.25,learning_rate = 0.1,max_depth=1,\n",
    "                              n_estimators = 400,reg_lambda = 0.01,scale_pos_weight=1.5).fit(X_train,y_train)\n",
    "\n",
    "# Note that we are using the cross-validated predicted probabilities, instead of directly using the \n",
    "# predicted probabilities on train data, as the model may be overfitting on the train data, and \n",
    "# may lead to misleading results\n",
    "cross_val_ypred = cross_val_predict(xgb.XGBClassifier(objective = 'binary:logistic',random_state=1,gamma=0.25,learning_rate = 0.1,max_depth=1,\n",
    "                              n_estimators = 400,reg_lambda = 0.01,scale_pos_weight=1.5), X_train, y_train, cv = 5, method = 'predict_proba')\n",
    "\n",
    "p, r, thresholds = precision_recall_curve(y_train, cross_val_ypred[:,1])"
   ]
  },
  {
   "cell_type": "code",
   "execution_count": 13,
   "id": "3b4111c5",
   "metadata": {},
   "outputs": [
    {
     "data": {
      "text/plain": [
       "array([0.98637587, 1.        , 0.80588235])"
      ]
     },
     "execution_count": 13,
     "metadata": {},
     "output_type": "execute_result"
    }
   ],
   "source": [
    "# Thresholds with precision and recall\n",
    "all_thresholds = np.concatenate([thresholds.reshape(-1,1), p[:-1].reshape(-1,1), r[:-1].reshape(-1,1)], axis = 1)\n",
    "recall_more_than_80 = all_thresholds[all_thresholds[:,2]>0.8,:]\n",
    "# As the values in 'recall_more_than_80' are arranged in decreasing order of recall and increasing threshold,\n",
    "# the last value will provide the maximum threshold probability for the recall to be more than 80%\n",
    "# We wish to find the maximum threshold probability to obtain the maximum possible precision\n",
    "recall_more_than_80[recall_more_than_80.shape[0]-1]"
   ]
  },
  {
   "cell_type": "code",
   "execution_count": 15,
   "id": "e32252bf",
   "metadata": {},
   "outputs": [
    {
     "name": "stdout",
     "output_type": "stream",
     "text": [
      "Accuracy:  91.22807017543859\n",
      "ROC-AUC:  0.9768518518518517\n",
      "Precision:  1.0\n",
      "Recall:  0.7619047619047619\n"
     ]
    },
    {
     "data": {
      "image/png": "[encoded data removed]",
      "text/plain": [
       "<Figure size 432x288 with 2 Axes>"
      ]
     },
     "metadata": {
      "needs_background": "light"
     },
     "output_type": "display_data"
    }
   ],
   "source": [
    "# Performance metrics computation for the optimum decision threshold probability\n",
    "desired_threshold = 0.80588235\n",
    "\n",
    "y_pred_prob = model.predict_proba(X_test)[:,1] \n",
    "\n",
    "# Classifying observations in the positive class (y = 1) if the predicted probability is greater\n",
    "# than the desired decision threshold probability\n",
    "y_pred = y_pred_prob > desired_threshold\n",
    "y_pred = y_pred.astype(int)\n",
    "\n",
    "#Computing the accuracy\n",
    "print(\"Accuracy: \",accuracy_score(y_pred, y_test)*100)  \n",
    "\n",
    "#Computing the ROC-AUC\n",
    "fpr, tpr, auc_thresholds = roc_curve(y_test, y_pred_prob)\n",
    "print(\"ROC-AUC: \",auc(fpr, tpr))# AUC of ROC\n",
    "\n",
    "#Computing the precision and recall\n",
    "print(\"Precision: \", precision_score(y_test, y_pred))\n",
    "print(\"Recall: \", recall_score(y_test, y_pred))\n",
    "\n",
    "#Confusion matrix\n",
    "cm = pd.DataFrame(confusion_matrix(y_test, y_pred), \n",
    "                  columns=['Predicted 0', 'Predicted 1'], index = ['Actual 0', 'Actual 1'])\n",
    "sns.heatmap(cm, annot=True, cmap='Blues', fmt='g');"
   ]
  },
  {
   "cell_type": "markdown",
   "id": "a221dcc6",
   "metadata": {},
   "source": [
    "## Model Ensemble \n",
    "*By Luke Lilienthal*"
   ]
  },
  {
   "cell_type": "code",
   "execution_count": null,
   "id": "08285cc8",
   "metadata": {},
   "outputs": [],
   "source": [
    "# Best models to be ensembled\n",
    "ada = AdaBoostClassifier(DecisionTreeClassifier(max_depth=1), learning_rate=1, \n",
    "                         n_estimators=190).fit(X_train, y_train)\n",
    "\n",
    "xg = xgb.XGBClassifier(objective = 'binary:logistic',random_state=1,gamma=0.25,learning_rate = 0.1,max_depth=1,\n",
    "                              n_estimators = 400,reg_lambda = 0.01,scale_pos_weight=1.5).fit(X_train,y_train)\n",
    "\n",
    "bag = BaggingClassifier(base_estimator=DecisionTreeClassifier(random_state=1), n_estimators=200, \n",
    "                          random_state=1,max_features=0.5,\n",
    "                        max_samples=1.0,n_jobs=-1,bootstrap=True,bootstrap_features=True).fit(X_train, y_train)"
   ]
  },
  {
   "cell_type": "markdown",
   "id": "961bcb1d",
   "metadata": {},
   "source": [
    "### Voting ensemble"
   ]
  },
  {
   "cell_type": "code",
   "execution_count": null,
   "id": "69cd989b",
   "metadata": {},
   "outputs": [],
   "source": [
    "# Train VotingClassifier model\n",
    "en=VotingClassifier(estimators = [('xgb',xg),('ada',ada),('bag',bag)], voting='soft')\n",
    "en.fit(X_train,y_train)\n",
    "\n",
    "prob = en.predict_proba(X_train)[:,1] \n",
    "results = pd.DataFrame(columns=['Threshold', 'Accuracy', 'Recall'])\n",
    "\n",
    "#Select an optimal training threshold\n",
    "for t in np.arange(0.01, 1.01, 0.01):\n",
    "  pred = np.where(prob > t, 1, 0)\n",
    "  accuracy = accuracy_score(y_train, pred)\n",
    "  recall = recall_score(y_train, pred)\n",
    "  results = pd.concat([results, pd.DataFrame({'Threshold':t, 'Accuracy':accuracy, 'Recall':recall}, \n",
    "                                             index=[0])]).reset_index(drop=True)\n",
    "\n",
    "results.sort_values(['Recall', 'Accuracy'], ascending=False)"
   ]
  },
  {
   "cell_type": "code",
   "execution_count": null,
   "id": "08b14796",
   "metadata": {},
   "outputs": [],
   "source": [
    "#Giving test results\n",
    "thr = 0.31\n",
    "y_pred_prob = en.predict_proba(X_test)[:,1] \n",
    "\n",
    "y_pred = y_pred_prob > thr\n",
    "y_pred = y_pred.astype(int)\n",
    "\n",
    "print(\"Accuracy: \",accuracy_score(y_pred, y_test)*100)  \n",
    "print(\"Recall: \", recall_score(y_test, y_pred))"
   ]
  },
  {
   "cell_type": "markdown",
   "id": "27bffab6",
   "metadata": {},
   "source": [
    "Notably, this performs worse than the individual AdaBoost model."
   ]
  },
  {
   "cell_type": "markdown",
   "id": "ca651ba0",
   "metadata": {},
   "source": [
    "### Stacking ensembles"
   ]
  },
  {
   "cell_type": "code",
   "execution_count": null,
   "id": "f906a4db",
   "metadata": {},
   "outputs": [],
   "source": [
    "# Training StackingClassifier model\n",
    "en=StackingClassifier(estimators = [('xgb',xg),('ada',ada),('bag',bag)],\n",
    "                     final_estimator=LogisticRegression(random_state=1,max_iter=10000))\n",
    "en.fit(X_train,y_train)\n",
    "\n",
    "prob = en.predict_proba(X_train)[:,1] \n",
    "results = pd.DataFrame(columns=['Threshold', 'Accuracy', 'Recall'])\n",
    "\n",
    "#Select an optimal training threshold\n",
    "for t in np.arange(0.01, 1.01, 0.01):\n",
    "  pred = np.where(prob > t, 1, 0)\n",
    "  accuracy = accuracy_score(y_train, pred)\n",
    "  recall = recall_score(y_train, pred)\n",
    "  results = pd.concat([results, pd.DataFrame({'Threshold':t, 'Accuracy':accuracy, 'Recall':recall}, \n",
    "                                             index=[0])]).reset_index(drop=True)\n",
    "\n",
    "results.sort_values(['Recall', 'Accuracy'], ascending=False)"
   ]
  },
  {
   "cell_type": "code",
   "execution_count": null,
   "id": "b19be532",
   "metadata": {},
   "outputs": [],
   "source": [
    "thr = 0.13\n",
    "y_pred_prob = en.predict_proba(X_test)[:,1] \n",
    "\n",
    "y_pred = y_pred_prob > thr\n",
    "y_pred = y_pred.astype(int)\n",
    "\n",
    "print(\"Accuracy: \",accuracy_score(y_pred, y_test)*100)  \n",
    "print(\"Recall: \", recall_score(y_test, y_pred))"
   ]
  },
  {
   "cell_type": "markdown",
   "id": "4c0c6bf2",
   "metadata": {},
   "source": [
    "Again, results are worse than the AdaBoost model. It seems that we have one dominant model in our solution set that makes ensembling not particularly effective."
   ]
  },
  {
   "cell_type": "markdown",
   "id": "ddff3adf",
   "metadata": {},
   "source": [
    "### Ensemble of ensembled models"
   ]
  },
  {
   "cell_type": "markdown",
   "id": "62a185cb",
   "metadata": {},
   "source": [
    "## Conclusions and Recommendations to stakeholder(s)\n",
    "\n",
    "You may or may not have code to put in this section. Delete this section if it is irrelevant."
   ]
  },
  {
   "cell_type": "code",
   "execution_count": null,
   "id": "97179257",
   "metadata": {},
   "outputs": [],
   "source": []
  }
 ],
 "metadata": {
  "kernelspec": {
   "display_name": "Python 3 (ipykernel)",
   "language": "python",
   "name": "python3"
  },
  "language_info": {
   "codemirror_mode": {
    "name": "ipython",
    "version": 3
   },
   "file_extension": ".py",
   "mimetype": "text/x-python",
   "name": "python",
   "nbconvert_exporter": "python",
   "pygments_lexer": "ipython3",
   "version": "3.9.13"
  }
 },
 "nbformat": 4,
 "nbformat_minor": 5
}
