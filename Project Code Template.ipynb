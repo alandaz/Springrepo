{
 "cells": [
  {
   "cell_type": "raw",
   "id": "33dd6c4c",
   "metadata": {},
   "source": [
    "---\n",
    "title: \"Project Code\"\n",
    "subtitle: Team name\n",
    "author: Alanda Zong, Juno Park, Luke Lilienthal\n",
    "date: 05/23/2023\n",
    "number-sections: true\n",
    "abstract: _This file contains the code for the project on predicting tumor types, as part of the STAT303-3 course in Spring 2023_.\n",
    "format: \n",
    "  html:\n",
    "    toc: true\n",
    "    toc-title: Contents\n",
    "    self-contained: true\n",
    "    font-size: 100%\n",
    "    toc-depth: 4\n",
    "    mainfont: serif\n",
    "jupyter: python3\n",
    "---"
   ]
  },
  {
   "cell_type": "markdown",
   "id": "aba5ee91",
   "metadata": {},
   "source": [
    "## Length of the code {-}\n",
    "No restriction\n",
    "\n",
    "**Delete this section from the report, when using this template.** "
   ]
  },
  {
   "cell_type": "code",
   "execution_count": 3,
   "id": "e19c973e",
   "metadata": {},
   "outputs": [],
   "source": [
    "import pandas as pd\n",
    "import numpy as np\n",
    "import seaborn as sns\n",
    "import matplotlib.pyplot as plt\n",
    "from sklearn.metrics import mean_squared_error\n",
    "from sklearn.model_selection import cross_val_score,train_test_split\n",
    "from sklearn.model_selection import StratifiedKFold, KFold, cross_val_predict\n",
    "from sklearn.tree import DecisionTreeRegressor,DecisionTreeClassifier\n",
    "from sklearn.model_selection import GridSearchCV, ParameterGrid\n",
    "from sklearn.ensemble import BaggingRegressor,BaggingClassifier\n",
    "from sklearn.linear_model import LinearRegression,LogisticRegression\n",
    "from sklearn.neighbors import KNeighborsRegressor\n",
    "from sklearn.metrics import roc_curve, precision_recall_curve, auc, make_scorer, recall_score, \\\n",
    "accuracy_score, precision_score, confusion_matrix, mean_squared_error, r2_score"
   ]
  },
  {
   "cell_type": "markdown",
   "id": "fe7ea9bb",
   "metadata": {},
   "source": [
    "## Data quality check / cleaning / preparation \n",
    "\n",
    "Put code with comments. The comments should explain the code such that it can be easily understood. You may put text *(in a markdown cell)* before a large chunk of code to explain the overall purpose of the code, if it is not intuitive. **Put the name of the person / persons who contributed to each code chunk / set of code chunks.** An example is given below."
   ]
  },
  {
   "cell_type": "code",
   "execution_count": 4,
   "id": "1b376282",
   "metadata": {},
   "outputs": [
    {
     "data": {
      "text/plain": [
       "(569, 33)"
      ]
     },
     "execution_count": 4,
     "metadata": {},
     "output_type": "execute_result"
    }
   ],
   "source": [
    "data = pd.read_csv(\"Cancer_Data.csv\")\n",
    "data.shape"
   ]
  },
  {
   "cell_type": "markdown",
   "id": "371a5a4a",
   "metadata": {},
   "source": [
    "### Distribution of response\n",
    "*By Juno Park*"
   ]
  },
  {
   "cell_type": "code",
   "execution_count": null,
   "id": "b868f6b5",
   "metadata": {},
   "outputs": [],
   "source": [
    "# Plot for distribution of response\n",
    "sns.countplot(x=\"diagnosis\", data = data)\n",
    "\n",
    "# Mean and standard deviation of response"
   ]
  },
  {
   "cell_type": "markdown",
   "id": "ff6b5e83",
   "metadata": {},
   "source": [
    "### Data cleaning\n",
    "*By Juno Park*"
   ]
  },
  {
   "cell_type": "code",
   "execution_count": null,
   "id": "25ddf4d3",
   "metadata": {},
   "outputs": [],
   "source": [
    "# drop any missing values\n",
    "data = data.drop(data.columns[data.columns.str.contains('unnamed',case = False)],axis = 1)\n",
    "print(data.head())\n",
    "\n",
    "rows = data[data.isnull().any(axis=1)]\n",
    "cols= data.columns[data.isnull().any()]\n",
    "\n",
    "if len(rows) == 0: \n",
    "    print('no more N/As')\n",
    "    \n",
    "if len(cols) == 0: \n",
    "    print('no more N/As')\n",
    "    \n",
    "print(data.shape)"
   ]
  },
  {
   "cell_type": "code",
   "execution_count": null,
   "id": "10b7f417",
   "metadata": {},
   "outputs": [],
   "source": [
    "# Create a dummy variable for the response\n",
    "data['diagnosis_dummy'] = 0\n",
    "data.loc[data['diagnosis'] == 'M', 'diagnosis_dummy'] = 1"
   ]
  },
  {
   "cell_type": "code",
   "execution_count": null,
   "id": "a8d222f3",
   "metadata": {},
   "outputs": [],
   "source": [
    "# Split data in 80% train 20% test\n",
    "X = data.drop(columns = ['diagnosis', 'diagnosis_dummy', 'id'])\n",
    "y = data['diagnosis_dummy']\n",
    "\n",
    "X_train, X_test, y_train, y_test = train_test_split(X, y, test_size = 0.2, random_state = 1)"
   ]
  },
  {
   "cell_type": "markdown",
   "id": "424479b5",
   "metadata": {},
   "source": [
    "### Data preparation\n",
    "*By Ryu Kimiko*\n",
    "\n",
    "The following data preparation steps helped us to prepare our data for implementing various modeling / validation techniques:\n",
    "\n",
    "1. Since we need to predict house price, we derived some new predictors *(from existing predictors)* that intuitively seem to be helpuful to predict house price. \n",
    "\n",
    "2. We have created a standardized version of the dataset, as we will use it to develop Lasso / Ridge regression models."
   ]
  },
  {
   "cell_type": "code",
   "execution_count": 3,
   "id": "bde6859d",
   "metadata": {},
   "outputs": [],
   "source": [
    "######---------------Creating new predictors----------------#########\n",
    "\n",
    "#Creating number of bedrooms per unit floor area\n",
    "\n",
    "#Creating ratio of bathrooms to bedrooms\n",
    "\n",
    "#Creating ratio of carpet area to floor area"
   ]
  },
  {
   "cell_type": "code",
   "execution_count": null,
   "id": "edf0986d",
   "metadata": {},
   "outputs": [],
   "source": [
    "######-----Standardizing the dataset for Lasso / Ridge-------#########"
   ]
  },
  {
   "cell_type": "markdown",
   "id": "fbb11c9b",
   "metadata": {},
   "source": [
    "## Exploratory data analysis"
   ]
  },
  {
   "cell_type": "markdown",
   "id": "e4bd74a9",
   "metadata": {},
   "source": [
    "Put code with comments. The comments should explain the code such that it can be easily understood. You may put text *(in a markdown cell)* before a large chunk of code to explain the overall purpose of the code, if it is not intuitive. **Put the name of the person / persons who contributed to each code chunk / set of code chunks.**"
   ]
  },
  {
   "cell_type": "markdown",
   "id": "24848897",
   "metadata": {},
   "source": [
    "### Correlation Analysis\n",
    "*By Luke Lilienthal*"
   ]
  },
  {
   "cell_type": "code",
   "execution_count": 5,
   "id": "84a398cc",
   "metadata": {},
   "outputs": [
    {
     "data": {
      "image/png": "[encoded data removed]",
      "text/plain": [
       "<Figure size 432x288 with 2 Axes>"
      ]
     },
     "metadata": {
      "needs_background": "light"
     },
     "output_type": "display_data"
    },
    {
     "data": {
      "image/png": "[encoded data removed]",
      "text/plain": [
       "<Figure size 432x288 with 2 Axes>"
      ]
     },
     "metadata": {
      "needs_background": "light"
     },
     "output_type": "display_data"
    },
    {
     "data": {
      "image/png": "[encoded data removed]",
      "text/plain": [
       "<Figure size 432x288 with 2 Axes>"
      ]
     },
     "metadata": {
      "needs_background": "light"
     },
     "output_type": "display_data"
    }
   ],
   "source": [
    "# Within-Category Correlation Analysis\n",
    "\n",
    "#Take area for example\n",
    "area = data[['area_mean', 'area_se', 'area_worst']]\n",
    "sns.heatmap(area.corr())\n",
    "plt.show()\n",
    "\n",
    "radius = data[['radius_mean', 'radius_se', 'radius_worst']]\n",
    "sns.heatmap(radius.corr())\n",
    "plt.show()\n",
    "\n",
    "texture = data[['texture_mean', 'texture_se', 'texture_worst']]\n",
    "sns.heatmap(texture.corr())\n",
    "plt.show()"
   ]
  },
  {
   "cell_type": "code",
   "execution_count": 6,
   "id": "3d4f53fe",
   "metadata": {},
   "outputs": [
    {
     "data": {
      "text/plain": [
       "<matplotlib.axes._subplots.AxesSubplot at 0x7fa2a4334cf8>"
      ]
     },
     "execution_count": 6,
     "metadata": {},
     "output_type": "execute_result"
    },
    {
     "data": {
      "image/png": "[encoded data removed]",
      "text/plain": [
       "<Figure size 432x288 with 2 Axes>"
      ]
     },
     "metadata": {
      "needs_background": "light"
     },
     "output_type": "display_data"
    }
   ],
   "source": [
    "#General correlation analysis\n",
    "\n",
    "# Drop worst attribute of categories- as they are highly correlated with mean\n",
    "drops = data.drop(columns=['area_worst', 'radius_worst', 'texture_worst', 'perimeter_worst', 'smoothness_worst', 'compactness_worst', \n",
    "                           'concavity_worst', 'concave points_worst', 'symmetry_worst', 'fractal_dimension_worst'], axis=1)\n",
    "sns.heatmap(drops.corr())\n",
    "# Strong correlation between size metrics (area, radius, perimeter) - size metreics se also correlated\n",
    "# Many smaller but significant correlations <0.8 also present"
   ]
  },
  {
   "cell_type": "markdown",
   "id": "acab331a",
   "metadata": {},
   "source": [
    "## Developing the model: Hyperparameter tuning"
   ]
  },
  {
   "cell_type": "markdown",
   "id": "ae5ec4c9",
   "metadata": {},
   "source": [
    "Put code with comments. The comments should explain the code such that it can be easily understood. You may put text *(in a markdown cell)* before a large chunk of code to explain the overall purpose of the code, if it is not intuitive. **Put the name of the person / persons who contributed to each code chunk / set of code chunks.**\n",
    "\n",
    "Put each model in a section of its name and mention the name of the team-member tuning the model. Below is an example:"
   ]
  },
  {
   "cell_type": "markdown",
   "id": "21bc9dcc",
   "metadata": {},
   "source": [
    "### Decision Tree\n",
    "*By Juno Park*"
   ]
  },
  {
   "cell_type": "code",
   "execution_count": null,
   "id": "daf5d130",
   "metadata": {},
   "outputs": [],
   "source": [
    "# Naive Decision Tree Model\n",
    "model = DecisionTreeClassifier(random_state=1) \n",
    "\n",
    "model.fit(X_train, y_train)"
   ]
  },
  {
   "cell_type": "code",
   "execution_count": null,
   "id": "cf9dc58e",
   "metadata": {},
   "outputs": [],
   "source": [
    "# Maximum number of leaves\n",
    "model.get_n_leaves()"
   ]
  },
  {
   "cell_type": "code",
   "execution_count": null,
   "id": "5c276834",
   "metadata": {},
   "outputs": [],
   "source": [
    "# Maximum depth\n",
    "model.get_depth()"
   ]
  },
  {
   "cell_type": "code",
   "execution_count": null,
   "id": "982d4842",
   "metadata": {},
   "outputs": [],
   "source": [
    "# Grid search for optimal values\n",
    "param_grid = {    \n",
    "    'max_depth': range(2,5),\n",
    "    'max_leaf_nodes': range(2,14),\n",
    "    'max_features': range(1, 32)\n",
    "}\n",
    "\n",
    "#Grid search to optimize parameter values\n",
    "skf = StratifiedKFold(n_splits=5) # The folds are made by preserving the percentage of samples for each class.\n",
    "\n",
    "#Minimizing FNR is equivalent to maximizing recall\n",
    "grid_search = GridSearchCV(DecisionTreeClassifier(random_state=1), param_grid, scoring=['precision','recall'], \n",
    "                           refit=\"recall\", cv=skf, n_jobs=-1, verbose = True)\n",
    "grid_search.fit(X_train, y_train)\n",
    "\n",
    "y_pred = grid_search.predict(X_test)\n",
    "\n",
    "print('Train accuracy : %.3f'%grid_search.best_estimator_.score(X_train, y_train))\n",
    "print('Test accuracy : %.3f'%grid_search.best_estimator_.score(X_test, y_test))\n",
    "print('Best accuracy Through Grid Search : %.3f'%grid_search.best_score_)\n",
    "\n",
    "print('Best params for recall')\n",
    "print(grid_search.best_params_)"
   ]
  },
  {
   "cell_type": "code",
   "execution_count": null,
   "id": "4587b2a7",
   "metadata": {},
   "outputs": [],
   "source": [
    "# Fields best parameters\n",
    "model = DecisionTreeClassifier(random_state=1, max_depth = 2, max_leaf_nodes=3, max_features=2).fit(X_train, y_train)\n",
    "\n",
    "# cross val predict\n",
    "cross_val_ypred = cross_val_predict(DecisionTreeClassifier(random_state=1, max_depth = 2, \n",
    "                                                        max_leaf_nodes=3, max_features=5), X_train, \n",
    "                                              y_train, cv = 5, method = 'predict_proba')\n",
    "p, r, thresholds = precision_recall_curve(y_train, cross_val_ypred[:,1])\n",
    "\n",
    "# threshold values with precision and recall\n",
    "np.concatenate([thresholds.reshape(-1,1), p[:-1].reshape(-1,1), r[:-1].reshape(-1,1)], axis = 1)"
   ]
  },
  {
   "cell_type": "code",
   "execution_count": null,
   "id": "6cef4903",
   "metadata": {},
   "outputs": [],
   "source": [
    "# Performance metrics computation for the optimum decision threshold probability\n",
    "desired_threshold = 0.24444444 # maximize recall with decent precision\n",
    "\n",
    "y_pred_prob = model.predict_proba(X_test)[:,1] \n",
    "\n",
    "# Classifying observations in the positive class (y = 1) if the predicted probability is greater\n",
    "# than the desired decision threshold probability\n",
    "y_pred = y_pred_prob > desired_threshold\n",
    "y_pred = y_pred.astype(int)\n",
    "\n",
    "#Computing the accuracy\n",
    "print(\"Accuracy: \",accuracy_score(y_pred, y_test)*100)  \n",
    "\n",
    "#Computing the ROC-AUC\n",
    "fpr, tpr, auc_thresholds = roc_curve(y_test, y_pred_prob)\n",
    "print(\"ROC-AUC: \",auc(fpr, tpr))# AUC of ROC\n",
    "\n",
    "#Computing the precision and recall\n",
    "print(\"Precision: \", precision_score(y_test, y_pred))\n",
    "print(\"Recall: \", recall_score(y_test, y_pred))\n",
    "\n",
    "#Confusion matrix\n",
    "cm = pd.DataFrame(confusion_matrix(y_test, y_pred), \n",
    "                  columns=['Predicted 0', 'Predicted 1'], index = ['Actual 0', 'Actual 1'])\n",
    "sns.heatmap(cm, annot=True, cmap='Blues', fmt='g');"
   ]
  },
  {
   "cell_type": "markdown",
   "id": "017ca069",
   "metadata": {},
   "source": [
    "### Bagged trees\n",
    "*By Juno Park*"
   ]
  },
  {
   "cell_type": "code",
   "execution_count": null,
   "id": "6fc00afa",
   "metadata": {},
   "outputs": [],
   "source": [
    "# Bagged Trees coarse search\n",
    "params = {'base_estimator': [DecisionTreeClassifier(random_state = 1)],\n",
    "          'n_estimators': [150,200,250],\n",
    "          'max_samples': [0.5, 0.75, 1.0],\n",
    "          'max_features': [0.5, 0.75, 1.0],\n",
    "          'bootstrap': [True, False],\n",
    "          'bootstrap_features': [True, False]}\n",
    "\n",
    "cv = KFold(n_splits=5,shuffle=True,random_state=1)\n",
    "bagging_classifier_grid = GridSearchCV(BaggingClassifier(random_state=1, n_jobs=-1), \n",
    "                                      param_grid =params, cv=cv, n_jobs=-1, verbose=1,\n",
    "                                      scoring = ['precision', 'recall'], refit='recall')\n",
    "bagging_classifier_grid.fit(X_train, y_train)\n",
    "\n",
    "print('Train accuracy : %.3f'%bagging_classifier_grid.best_estimator_.score(X_train, y_train))\n",
    "print('Test accuracy : %.3f'%bagging_classifier_grid.best_estimator_.score(X_test, y_test))\n",
    "print('Best accuracy Through Grid Search : %.3f'%bagging_classifier_grid.best_score_)\n",
    "print('Best Parameters : ',bagging_classifier_grid.best_params_)"
   ]
  },
  {
   "cell_type": "code",
   "execution_count": null,
   "id": "cf267a69",
   "metadata": {},
   "outputs": [],
   "source": [
    "# Fields best parameters:\n",
    "model = BaggingClassifier(base_estimator=DecisionTreeClassifier(random_state=1), n_estimators=200, \n",
    "                          random_state=1,max_features=0.5,\n",
    "                        max_samples=1.0,n_jobs=-1,bootstrap=True,bootstrap_features=True).fit(X_train, y_train)\n",
    "\n",
    "prob = model.predict_proba(X_train)[:,1] \n",
    "results = pd.DataFrame(columns=['Threshold', 'Accuracy', 'Recall'])\n",
    "\n",
    "for t in np.arange(0.01, 1.01, 0.01):\n",
    "  pred = np.where(prob > t, 1, 0)\n",
    "  accuracy = accuracy_score(y_train, pred)\n",
    "  recall = recall_score(y_train, pred)\n",
    "  results = pd.concat([results, pd.DataFrame({'Threshold':t, 'Accuracy':accuracy, 'Recall':recall}, \n",
    "                                             index=[0])]).reset_index(drop=True)\n",
    "\n",
    "results.sort_values(['Recall', 'Accuracy'], ascending=False)"
   ]
  },
  {
   "cell_type": "code",
   "execution_count": null,
   "id": "0b60c59d",
   "metadata": {},
   "outputs": [],
   "source": [
    "# Finer grid search\n",
    "params = {'base_estimator': [DecisionTreeClassifier(random_state = 1)],\n",
    "          'n_estimators': [175, 200, 225],\n",
    "          'max_samples': [0.8, 0.9, 1.0],\n",
    "          'max_features': [0.4, 0.5, 0.6],\n",
    "          'bootstrap': [True, False],\n",
    "          'bootstrap_features': [True, False]}\n",
    "\n",
    "cv = KFold(n_splits=5,shuffle=True,random_state=1)\n",
    "bagging_classifier_grid = GridSearchCV(BaggingClassifier(random_state=1, n_jobs=-1), \n",
    "                                      param_grid =params, cv=cv, n_jobs=-1, verbose=1,\n",
    "                                      scoring = ['precision', 'recall'], refit='recall')\n",
    "bagging_classifier_grid.fit(X_train, y_train)\n",
    "\n",
    "print('Train accuracy : %.3f'%bagging_classifier_grid.best_estimator_.score(X_train, y_train))\n",
    "print('Test accuracy : %.3f'%bagging_classifier_grid.best_estimator_.score(X_test, y_test))\n",
    "print('Best accuracy Through Grid Search : %.3f'%bagging_classifier_grid.best_score_)\n",
    "print('Best Parameters : ',bagging_classifier_grid.best_params_)"
   ]
  },
  {
   "cell_type": "code",
   "execution_count": null,
   "id": "306e9338",
   "metadata": {},
   "outputs": [],
   "source": [
    "# Fields optimal parameters\n",
    "model = BaggingClassifier(base_estimator=DecisionTreeClassifier(random_state=1), n_estimators=200, \n",
    "                          random_state=1,max_features=0.5,\n",
    "                        max_samples=1.0,n_jobs=-1,bootstrap=True,bootstrap_features=True).fit(X_train, y_train)\n",
    "\n",
    "prob = model.predict_proba(X_train)[:,1] \n",
    "results = pd.DataFrame(columns=['Threshold', 'Accuracy', 'Recall'])\n",
    "\n",
    "for t in np.arange(0.01, 1.01, 0.01):\n",
    "  pred = np.where(prob > t, 1, 0)\n",
    "  accuracy = accuracy_score(y_train, pred)\n",
    "  recall = recall_score(y_train, pred)\n",
    "  results = pd.concat([results, pd.DataFrame({'Threshold':t, 'Accuracy':accuracy, 'Recall':recall}, \n",
    "                                             index=[0])]).reset_index(drop=True)\n",
    "\n",
    "results.sort_values(['Recall', 'Accuracy'], ascending=False)"
   ]
  },
  {
   "cell_type": "code",
   "execution_count": null,
   "id": "b57e74a3",
   "metadata": {},
   "outputs": [],
   "source": [
    "# Performance metrics computation for the optimum decision threshold probability\n",
    "desired_threshold = 0.24\n",
    "\n",
    "y_pred_prob = model.predict_proba(X_test)[:,1] \n",
    "\n",
    "# Classifying observations in the positive class (y = 1) if the predicted probability is greater\n",
    "# than the desired decision threshold probability\n",
    "y_pred = y_pred_prob > desired_threshold\n",
    "y_pred = y_pred.astype(int)\n",
    "\n",
    "#Computing the accuracy\n",
    "print(\"Accuracy: \",accuracy_score(y_pred, y_test)*100)  \n",
    "\n",
    "#Computing the ROC-AUC\n",
    "fpr, tpr, auc_thresholds = roc_curve(y_test, y_pred_prob)\n",
    "print(\"ROC-AUC: \",auc(fpr, tpr))# AUC of ROC\n",
    "\n",
    "#Computing the precision and recall\n",
    "print(\"Precision: \", precision_score(y_test, y_pred))\n",
    "print(\"Recall: \", recall_score(y_test, y_pred))\n",
    "\n",
    "#Confusion matrix\n",
    "cm = pd.DataFrame(confusion_matrix(y_test, y_pred), \n",
    "                  columns=['Predicted 0', 'Predicted 1'], index = ['Actual 0', 'Actual 1'])\n",
    "sns.heatmap(cm, annot=True, cmap='Blues', fmt='g');"
   ]
  },
  {
   "cell_type": "markdown",
   "id": "11cfe6ea",
   "metadata": {},
   "source": [
    "## Random forest\n",
    "*By Luke Lilienthal*"
   ]
  },
  {
   "cell_type": "code",
   "execution_count": null,
   "id": "7f9cd106",
   "metadata": {},
   "outputs": [],
   "source": [
    "# RANDOM FOREST COARSE SEARCH\n",
    "params = {'bootstrap': [False, True],\n",
    "         'max_features': [0.3, 0.5, 0.8],\n",
    "          'max_depth': [12,15,18],\n",
    "          'max_leaf_nodes':[1100,1200,1300]}\n",
    "\n",
    "cv = KFold(n_splits=5,shuffle=True,random_state=1)\n",
    "\n",
    "rf = GridSearchCV(RandomForestClassifier(random_state=1, n_jobs=-1, n_estimators=500), \n",
    "                                      param_grid =params, cv=cv, n_jobs=-1, verbose=1, scoring = ['accuracy', 'recall'], refit='accuracy')\n",
    "\n",
    "rf.fit(X_train, y_train)\n",
    "\n",
    "print('Best Parameters : ',rf.best_params_)"
   ]
  },
  {
   "cell_type": "code",
   "execution_count": null,
   "id": "10fcf3bd",
   "metadata": {},
   "outputs": [],
   "source": [
    "#Fields best parameters:\n",
    "model = RandomForestClassifier(random_state=1, n_jobs=-1, n_estimators=500, \n",
    "                               max_features=0.5, bootstrap=True, max_depth=12, max_leaf_nodes=1100).fit(X_train, y_train)\n",
    "\n",
    "prob = model.predict_proba(X_train)[:,1] \n",
    "results = pd.DataFrame(columns=['Threshold', 'Accuracy', 'Recall'])\n",
    "\n",
    "for t in np.arange(0.01, 1.01, 0.01):\n",
    "  pred = np.where(prob > t, 1, 0)\n",
    "  accuracy = accuracy_score(y_train, pred)\n",
    "  recall = recall_score(y_train, pred)\n",
    "  results = pd.concat([results, pd.DataFrame({'Threshold':t, 'Accuracy':accuracy, 'Recall':recall}, \n",
    "                                             index=[0])]).reset_index(drop=True)\n",
    "\n",
    "results.sort_values(['Recall', 'Accuracy'], ascending=False)\n",
    "\n",
    "#0.18 gives 97.6% recall and 95.6% accuracy\n",
    "#0.01 gives 100% recall and 81.5% accuracy"
   ]
  },
  {
   "cell_type": "code",
   "execution_count": null,
   "id": "118efbb6",
   "metadata": {},
   "outputs": [],
   "source": [
    "# RANDOM FOREST FINE SEARCH\n",
    "params = {'bootstrap': [False, True],\n",
    "         'max_features': [0.35, 0.4, 0.45],\n",
    "          'max_depth': [5, 6, 7],\n",
    "          'max_leaf_nodes':[500,600, 700]}\n",
    "\n",
    "cv = KFold(n_splits=5,shuffle=True,random_state=1)\n",
    "\n",
    "rf = GridSearchCV(RandomForestClassifier(random_state=1, n_jobs=-1, n_estimators=500), \n",
    "                                      param_grid =params, cv=cv, n_jobs=-1, verbose=1, scoring = ['accuracy', 'recall'], refit='accuracy')\n",
    "\n",
    "rf.fit(X_train, y_train)\n",
    "\n",
    "print('Best Parameters : ',rf.best_params_)"
   ]
  },
  {
   "cell_type": "code",
   "execution_count": null,
   "id": "66cd31ef",
   "metadata": {},
   "outputs": [],
   "source": [
    "#Fields optimal fine parameters\n",
    "model = RandomForestClassifier(random_state=1, n_jobs=-1, n_estimators=500, \n",
    "                               max_features=0.4, bootstrap=True, max_depth=6, max_leaf_nodes=500).fit(X_train, y_train)\n",
    "\n",
    "prob = model.predict_proba(X_train)[:,1] \n",
    "results = pd.DataFrame(columns=['Threshold', 'Accuracy', 'Recall'])\n",
    "\n",
    "for t in np.arange(0.01, 1.01, 0.01):\n",
    "  pred = np.where(prob > t, 1, 0)\n",
    "  accuracy = accuracy_score(y_train, pred)\n",
    "  recall = recall_score(y_train, pred)\n",
    "  results = pd.concat([results, pd.DataFrame({'Threshold':t, 'Accuracy':accuracy, 'Recall':recall}, \n",
    "                                             index=[0])]).reset_index(drop=True)\n",
    "\n",
    "results.sort_values(['Recall', 'Accuracy'], ascending=False)\n",
    "\n",
    "#0.18 gives 97.6% recall and 97.3% accuracy\n",
    "#0.02 gives 100% recall and 83.3% accuracy"
   ]
  },
  {
   "cell_type": "code",
   "execution_count": null,
   "id": "28d2f526",
   "metadata": {},
   "outputs": [],
   "source": [
    "thr = 0.34\n",
    "y_pred_prob = model.predict_proba(X_test)[:,1] \n",
    "\n",
    "y_pred = y_pred_prob > thr\n",
    "y_pred = y_pred.astype(int)\n",
    "\n",
    "print(\"Accuracy: \",accuracy_score(y_pred, y_test)*100)  \n",
    "print(\"Recall: \", recall_score(y_test, y_pred))"
   ]
  },
  {
   "cell_type": "markdown",
   "id": "8d83560b",
   "metadata": {},
   "source": [
    "## AdaBoost\n",
    "*By Luke Lilienthal*"
   ]
  },
  {
   "cell_type": "code",
   "execution_count": null,
   "id": "c6c80e9f",
   "metadata": {},
   "outputs": [],
   "source": [
    "# ADA BOOST COARSE GRID\n",
    "model = AdaBoostClassifier(random_state=1)\n",
    "grid = dict()\n",
    "grid['n_estimators'] = [10, 50, 100,200,500]\n",
    "grid['learning_rate'] = [0.0001, 0.001, 0.01,0.1, 1.0]\n",
    "grid['base_estimator'] = [DecisionTreeClassifier(max_depth=1), DecisionTreeClassifier(max_depth=2), \n",
    "                          DecisionTreeClassifier(max_depth=3),DecisionTreeClassifier(max_depth=4)]\n",
    "\n",
    "# define the evaluation procedure\n",
    "cv = KFold(n_splits=5, shuffle=True, random_state=1)\n",
    "# define the grid search procedure\n",
    "grid_search = GridSearchCV(estimator=model, param_grid=grid, n_jobs=-1, cv=cv, \n",
    "                          verbose = True, scoring=['accuracy', 'recall'], refit='accuracy')\n",
    "# execute the grid search\n",
    "grid_result = grid_search.fit(X_train, y_train)\n",
    "# summarize the best score and configuration\n",
    "print(\"Best: %f using %s\" % (grid_result.best_score_, grid_result.best_params_))\n",
    "# summarize all scores that were evaluated\n",
    "\n",
    "params = grid_result.cv_results_['params']"
   ]
  },
  {
   "cell_type": "code",
   "execution_count": null,
   "id": "7effa45a",
   "metadata": {},
   "outputs": [],
   "source": [
    "model = AdaBoostClassifier(DecisionTreeClassifier(max_depth=1), learning_rate=1, n_estimators=200).fit(X_train, y_train)\n",
    "\n",
    "prob = model.predict_proba(X_train)[:,1] \n",
    "results = pd.DataFrame(columns=['Threshold', 'Accuracy', 'Recall'])\n",
    "\n",
    "for t in np.arange(0.01, 1.01, 0.01):\n",
    "  pred = np.where(prob > t, 1, 0)\n",
    "  accuracy = accuracy_score(y_train, pred)\n",
    "  recall = recall_score(y_train, pred)\n",
    "  results = pd.concat([results, pd.DataFrame({'Threshold':t, 'Accuracy':accuracy, 'Recall':recall}, \n",
    "                                             index=[0])]).reset_index(drop=True)\n",
    "\n",
    "results.sort_values(['Recall', 'Accuracy'], ascending=False)\n",
    "\n",
    "#Threshold 0.45 gives accuracy 96.5% with 100% recall - best "
   ]
  },
  {
   "cell_type": "code",
   "execution_count": null,
   "id": "604aa2d8",
   "metadata": {},
   "outputs": [],
   "source": [
    "# ADA BOOST FINE GRID SEARCH\n",
    "model = AdaBoostClassifier(random_state=1)\n",
    "grid = dict()\n",
    "grid['n_estimators'] = np.arange(100, 300, 10)\n",
    "grid['learning_rate'] = [1.0]\n",
    "grid['base_estimator'] = [DecisionTreeClassifier(max_depth=1)]\n",
    "\n",
    "# define the evaluation procedure\n",
    "cv = KFold(n_splits=5, shuffle=True, random_state=1)\n",
    "# define the grid search procedure\n",
    "grid_search = GridSearchCV(model, param_grid=grid, n_jobs=-1, cv=cv, \n",
    "                          verbose = True, scoring=['accuracy', 'recall'], refit='accuracy')\n",
    "# execute the grid search\n",
    "grid_result = grid_search.fit(X_train, y_train)\n",
    "# summarize the best score and configuration\n",
    "print(\"Best: %f using %s\" % (grid_result.best_score_, grid_result.best_params_))\n",
    "# summarize all scores that were evaluated\n",
    "\n",
    "params = grid_result.cv_results_['params']"
   ]
  },
  {
   "cell_type": "code",
   "execution_count": null,
   "id": "c2e5ba80",
   "metadata": {},
   "outputs": [],
   "source": [
    "model = AdaBoostClassifier(DecisionTreeClassifier(max_depth=1), learning_rate=1, n_estimators=190).fit(X_train, y_train)\n",
    "\n",
    "prob = model.predict_proba(X_train)[:,1] \n",
    "results = pd.DataFrame(columns=['Threshold', 'Accuracy', 'Recall'])\n",
    "\n",
    "for t in np.arange(0.01, 1.01, 0.01):\n",
    "  pred = np.where(prob > t, 1, 0)\n",
    "  accuracy = accuracy_score(y_train, pred)\n",
    "  recall = recall_score(y_train, pred)\n",
    "  results = pd.concat([results, pd.DataFrame({'Threshold':t, 'Accuracy':accuracy, 'Recall':recall}, \n",
    "                                             index=[0])]).reset_index(drop=True)\n",
    "\n",
    "results.sort_values(['Recall', 'Accuracy'], ascending=False)\n",
    "\n",
    "#Threshold 0.45 gives accuracy 97.3% with 100% recall - best "
   ]
  },
  {
   "cell_type": "code",
   "execution_count": null,
   "id": "f08fc1c7",
   "metadata": {},
   "outputs": [],
   "source": [
    "thr = 0.45\n",
    "y_pred_prob = model.predict_proba(X_test)[:,1] \n",
    "\n",
    "y_pred = y_pred_prob > thr\n",
    "y_pred = y_pred.astype(int)\n",
    "\n",
    "print(\"Accuracy: \",accuracy_score(y_pred, y_test)*100)  \n",
    "print(\"Recall: \", recall_score(y_test, y_pred))"
   ]
  },
  {
   "cell_type": "markdown",
   "id": "8182968b",
   "metadata": {},
   "source": [
    "### XGBoost\n",
    "*By Ryu Kimiko*"
   ]
  },
  {
   "cell_type": "markdown",
   "id": "a221dcc6",
   "metadata": {},
   "source": [
    "## Model Ensemble "
   ]
  },
  {
   "cell_type": "markdown",
   "id": "9dc8b3d9",
   "metadata": {},
   "source": [
    "Put code with comments. The comments should explain the code such that it can be easily understood. You may put text *(in a markdown cell)* before a large chunk of code to explain the overall purpose of the code, if it is not intuitive. **Put the name of the person / persons who contributed to each code chunk / set of code chunks.**\n"
   ]
  },
  {
   "cell_type": "markdown",
   "id": "961bcb1d",
   "metadata": {},
   "source": [
    "### Voting ensemble"
   ]
  },
  {
   "cell_type": "markdown",
   "id": "ca651ba0",
   "metadata": {},
   "source": [
    "### Stacking ensemble(s)"
   ]
  },
  {
   "cell_type": "markdown",
   "id": "ddff3adf",
   "metadata": {},
   "source": [
    "### Ensemble of ensembled models"
   ]
  },
  {
   "cell_type": "markdown",
   "id": "3668faab",
   "metadata": {},
   "source": [
    "### Innovative ensembling methods\n",
    "*(Optional)*"
   ]
  },
  {
   "cell_type": "markdown",
   "id": "62a185cb",
   "metadata": {},
   "source": [
    "## Conclusions and Recommendations to stakeholder(s)\n",
    "\n",
    "You may or may not have code to put in this section. Delete this section if it is irrelevant."
   ]
  }
 ],
 "metadata": {
  "kernelspec": {
   "display_name": "Python 3 (ipykernel)",
   "language": "python",
   "name": "python3"
  },
  "language_info": {
   "codemirror_mode": {
    "name": "ipython",
    "version": 3
   },
   "file_extension": ".py",
   "mimetype": "text/x-python",
   "name": "python",
   "nbconvert_exporter": "python",
   "pygments_lexer": "ipython3",
   "version": "3.9.13"
  }
 },
 "nbformat": 4,
 "nbformat_minor": 5
}
