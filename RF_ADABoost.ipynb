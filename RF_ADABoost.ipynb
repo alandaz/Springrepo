{
 "cells": [
  {
   "cell_type": "code",
   "execution_count": 2,
   "metadata": {
    "id": "lrMfskAtwq3q"
   },
   "outputs": [],
   "source": [
    "import pandas as pd\n",
    "import numpy as np\n",
    "from sklearn.preprocessing import StandardScaler\n",
    "from sklearn.model_selection import train_test_split, cross_val_predict, cross_val_score, GridSearchCV, KFold\n",
    "from sklearn.ensemble import RandomForestClassifier, AdaBoostClassifier\n",
    "from sklearn.metrics import accuracy_score, recall_score\n",
    "from sklearn.tree import DecisionTreeClassifier\n",
    "import matplotlib.pyplot as plt\n"
   ]
  },
  {
   "cell_type": "code",
   "execution_count": 3,
   "metadata": {
    "id": "MJ6DW_ecxlVm"
   },
   "outputs": [],
   "source": [
    "data = pd.read_csv('Cancer_Data.csv')\n",
    "\n",
    "y = np.where(data.diagnosis == 'M', 1, 0)\n",
    "X = data.drop(['diagnosis', 'id', 'Unnamed: 32'], axis=1)\n",
    "features = X.columns\n",
    "\n",
    "X_train, X_test, y_train, y_test = train_test_split(X, y, test_size = 0.2, random_state = 1, stratify=y)\n",
    "\n",
    "\n",
    "scaler = StandardScaler()\n",
    "X_train = pd.DataFrame(scaler.fit_transform(X_train))\n",
    "X_test = pd.DataFrame(scaler.transform(X_test))\n",
    "\n",
    "X_train.columns = features\n",
    "X_test.columns = features"
   ]
  },
  {
   "cell_type": "code",
   "execution_count": 31,
   "metadata": {
    "colab": {
     "base_uri": "https://localhost:8080/"
    },
    "id": "-UfsBEhbyDe3",
    "outputId": "9d755c91-8602-4d2b-cd83-18701aff99e6"
   },
   "outputs": [
    {
     "name": "stdout",
     "output_type": "stream",
     "text": [
      "Fitting 5 folds for each of 54 candidates, totalling 270 fits\n",
      "Best Parameters :  {'bootstrap': True, 'max_depth': 12, 'max_features': 0.5, 'max_leaf_nodes': 1100}\n"
     ]
    }
   ],
   "source": [
    "# RANDOM FOREST COARSE SEARCH\n",
    "params = {'bootstrap': [False, True],\n",
    "         'max_features': [0.3, 0.5, 0.8],\n",
    "          'max_depth': [12,15,18],\n",
    "          'max_leaf_nodes':[1100,1200,1300]}\n",
    "\n",
    "cv = KFold(n_splits=5,shuffle=True,random_state=1)\n",
    "\n",
    "rf = GridSearchCV(RandomForestClassifier(random_state=1, n_jobs=-1, n_estimators=500), \n",
    "                                      param_grid =params, cv=cv, n_jobs=-1, verbose=1, scoring = ['accuracy', 'recall'], refit='accuracy')\n",
    "\n",
    "rf.fit(X_train, y_train)\n",
    "\n",
    "print('Best Parameters : ',rf.best_params_)"
   ]
  },
  {
   "cell_type": "code",
   "execution_count": 5,
   "metadata": {
    "colab": {
     "base_uri": "https://localhost:8080/",
     "height": 419
    },
    "id": "1e-mNKPnzyO-",
    "outputId": "0e04873f-9ad5-4760-8dfe-8a381cace96f"
   },
   "outputs": [
    {
     "data": {
      "text/html": [
       "<div>\n",
       "<style scoped>\n",
       "    .dataframe tbody tr th:only-of-type {\n",
       "        vertical-align: middle;\n",
       "    }\n",
       "\n",
       "    .dataframe tbody tr th {\n",
       "        vertical-align: top;\n",
       "    }\n",
       "\n",
       "    .dataframe thead th {\n",
       "        text-align: right;\n",
       "    }\n",
       "</style>\n",
       "<table border=\"1\" class=\"dataframe\">\n",
       "  <thead>\n",
       "    <tr style=\"text-align: right;\">\n",
       "      <th></th>\n",
       "      <th>Threshold</th>\n",
       "      <th>Accuracy</th>\n",
       "      <th>Recall</th>\n",
       "    </tr>\n",
       "  </thead>\n",
       "  <tbody>\n",
       "    <tr>\n",
       "      <th>33</th>\n",
       "      <td>0.34</td>\n",
       "      <td>1.000000</td>\n",
       "      <td>1.000000</td>\n",
       "    </tr>\n",
       "    <tr>\n",
       "      <th>34</th>\n",
       "      <td>0.35</td>\n",
       "      <td>1.000000</td>\n",
       "      <td>1.000000</td>\n",
       "    </tr>\n",
       "    <tr>\n",
       "      <th>35</th>\n",
       "      <td>0.36</td>\n",
       "      <td>1.000000</td>\n",
       "      <td>1.000000</td>\n",
       "    </tr>\n",
       "    <tr>\n",
       "      <th>36</th>\n",
       "      <td>0.37</td>\n",
       "      <td>1.000000</td>\n",
       "      <td>1.000000</td>\n",
       "    </tr>\n",
       "    <tr>\n",
       "      <th>37</th>\n",
       "      <td>0.38</td>\n",
       "      <td>1.000000</td>\n",
       "      <td>1.000000</td>\n",
       "    </tr>\n",
       "    <tr>\n",
       "      <th>...</th>\n",
       "      <td>...</td>\n",
       "      <td>...</td>\n",
       "      <td>...</td>\n",
       "    </tr>\n",
       "    <tr>\n",
       "      <th>95</th>\n",
       "      <td>0.96</td>\n",
       "      <td>0.907692</td>\n",
       "      <td>0.752941</td>\n",
       "    </tr>\n",
       "    <tr>\n",
       "      <th>96</th>\n",
       "      <td>0.97</td>\n",
       "      <td>0.896703</td>\n",
       "      <td>0.723529</td>\n",
       "    </tr>\n",
       "    <tr>\n",
       "      <th>97</th>\n",
       "      <td>0.98</td>\n",
       "      <td>0.876923</td>\n",
       "      <td>0.670588</td>\n",
       "    </tr>\n",
       "    <tr>\n",
       "      <th>98</th>\n",
       "      <td>0.99</td>\n",
       "      <td>0.861538</td>\n",
       "      <td>0.629412</td>\n",
       "    </tr>\n",
       "    <tr>\n",
       "      <th>99</th>\n",
       "      <td>1.00</td>\n",
       "      <td>0.626374</td>\n",
       "      <td>0.000000</td>\n",
       "    </tr>\n",
       "  </tbody>\n",
       "</table>\n",
       "<p>100 rows × 3 columns</p>\n",
       "</div>"
      ],
      "text/plain": [
       "    Threshold  Accuracy    Recall\n",
       "33       0.34  1.000000  1.000000\n",
       "34       0.35  1.000000  1.000000\n",
       "35       0.36  1.000000  1.000000\n",
       "36       0.37  1.000000  1.000000\n",
       "37       0.38  1.000000  1.000000\n",
       "..        ...       ...       ...\n",
       "95       0.96  0.907692  0.752941\n",
       "96       0.97  0.896703  0.723529\n",
       "97       0.98  0.876923  0.670588\n",
       "98       0.99  0.861538  0.629412\n",
       "99       1.00  0.626374  0.000000\n",
       "\n",
       "[100 rows x 3 columns]"
      ]
     },
     "execution_count": 5,
     "metadata": {},
     "output_type": "execute_result"
    }
   ],
   "source": [
    "model = RandomForestClassifier(random_state=1, n_jobs=-1, n_estimators=500, \n",
    "                               max_features=0.5, bootstrap=True, max_depth=12, max_leaf_nodes=1100).fit(X_train, y_train)\n",
    "\n",
    "prob = model.predict_proba(X_train)[:,1] \n",
    "results = pd.DataFrame(columns=['Threshold', 'Accuracy', 'Recall'])\n",
    "\n",
    "for t in np.arange(0.01, 1.01, 0.01):\n",
    "  pred = np.where(prob > t, 1, 0)\n",
    "  accuracy = accuracy_score(y_train, pred)\n",
    "  recall = recall_score(y_train, pred)\n",
    "  results = pd.concat([results, pd.DataFrame({'Threshold':t, 'Accuracy':accuracy, 'Recall':recall}, \n",
    "                                             index=[0])]).reset_index(drop=True)\n",
    "\n",
    "results.sort_values(['Recall', 'Accuracy'], ascending=False)\n",
    "\n",
    "#0.18 gives 97.6% recall and 95.6% accuracy\n",
    "#0.01 gives 100% recall and 81.5% accuracy"
   ]
  },
  {
   "cell_type": "code",
   "execution_count": 65,
   "metadata": {
    "colab": {
     "base_uri": "https://localhost:8080/"
    },
    "id": "pXVa4JwO4Esx",
    "outputId": "d0fc2db4-adaa-44dd-ed87-53cb8db53fe9"
   },
   "outputs": [
    {
     "name": "stdout",
     "output_type": "stream",
     "text": [
      "Fitting 5 folds for each of 54 candidates, totalling 270 fits\n",
      "Best Parameters :  {'bootstrap': True, 'max_depth': 6, 'max_features': 0.4, 'max_leaf_nodes': 500}\n"
     ]
    }
   ],
   "source": [
    "# RANDOM FOREST FINE SEARCH\n",
    "params = {'bootstrap': [False, True],\n",
    "         'max_features': [0.35, 0.4, 0.45],\n",
    "          'max_depth': [5, 6, 7],\n",
    "          'max_leaf_nodes':[500,600, 700]}\n",
    "\n",
    "cv = KFold(n_splits=5,shuffle=True,random_state=1)\n",
    "\n",
    "rf = GridSearchCV(RandomForestClassifier(random_state=1, n_jobs=-1, n_estimators=500), \n",
    "                                      param_grid =params, cv=cv, n_jobs=-1, verbose=1, scoring = ['accuracy', 'recall'], refit='accuracy')\n",
    "\n",
    "rf.fit(X_train, y_train)\n",
    "\n",
    "print('Best Parameters : ',rf.best_params_)"
   ]
  },
  {
   "cell_type": "code",
   "execution_count": 25,
   "metadata": {
    "colab": {
     "base_uri": "https://localhost:8080/",
     "height": 419
    },
    "id": "T1bSF_ve4n5G",
    "outputId": "1991e97c-2696-4268-c869-2d027d68deb0"
   },
   "outputs": [
    {
     "data": {
      "text/html": [
       "<div>\n",
       "<style scoped>\n",
       "    .dataframe tbody tr th:only-of-type {\n",
       "        vertical-align: middle;\n",
       "    }\n",
       "\n",
       "    .dataframe tbody tr th {\n",
       "        vertical-align: top;\n",
       "    }\n",
       "\n",
       "    .dataframe thead th {\n",
       "        text-align: right;\n",
       "    }\n",
       "</style>\n",
       "<table border=\"1\" class=\"dataframe\">\n",
       "  <thead>\n",
       "    <tr style=\"text-align: right;\">\n",
       "      <th></th>\n",
       "      <th>Threshold</th>\n",
       "      <th>Accuracy</th>\n",
       "      <th>Recall</th>\n",
       "    </tr>\n",
       "  </thead>\n",
       "  <tbody>\n",
       "    <tr>\n",
       "      <th>33</th>\n",
       "      <td>0.34</td>\n",
       "      <td>1.000000</td>\n",
       "      <td>1.000000</td>\n",
       "    </tr>\n",
       "    <tr>\n",
       "      <th>34</th>\n",
       "      <td>0.35</td>\n",
       "      <td>1.000000</td>\n",
       "      <td>1.000000</td>\n",
       "    </tr>\n",
       "    <tr>\n",
       "      <th>35</th>\n",
       "      <td>0.36</td>\n",
       "      <td>1.000000</td>\n",
       "      <td>1.000000</td>\n",
       "    </tr>\n",
       "    <tr>\n",
       "      <th>36</th>\n",
       "      <td>0.37</td>\n",
       "      <td>1.000000</td>\n",
       "      <td>1.000000</td>\n",
       "    </tr>\n",
       "    <tr>\n",
       "      <th>29</th>\n",
       "      <td>0.30</td>\n",
       "      <td>0.997802</td>\n",
       "      <td>1.000000</td>\n",
       "    </tr>\n",
       "    <tr>\n",
       "      <th>...</th>\n",
       "      <td>...</td>\n",
       "      <td>...</td>\n",
       "      <td>...</td>\n",
       "    </tr>\n",
       "    <tr>\n",
       "      <th>95</th>\n",
       "      <td>0.96</td>\n",
       "      <td>0.912088</td>\n",
       "      <td>0.764706</td>\n",
       "    </tr>\n",
       "    <tr>\n",
       "      <th>96</th>\n",
       "      <td>0.97</td>\n",
       "      <td>0.885714</td>\n",
       "      <td>0.694118</td>\n",
       "    </tr>\n",
       "    <tr>\n",
       "      <th>97</th>\n",
       "      <td>0.98</td>\n",
       "      <td>0.874725</td>\n",
       "      <td>0.664706</td>\n",
       "    </tr>\n",
       "    <tr>\n",
       "      <th>98</th>\n",
       "      <td>0.99</td>\n",
       "      <td>0.854945</td>\n",
       "      <td>0.611765</td>\n",
       "    </tr>\n",
       "    <tr>\n",
       "      <th>99</th>\n",
       "      <td>1.00</td>\n",
       "      <td>0.626374</td>\n",
       "      <td>0.000000</td>\n",
       "    </tr>\n",
       "  </tbody>\n",
       "</table>\n",
       "<p>100 rows × 3 columns</p>\n",
       "</div>"
      ],
      "text/plain": [
       "    Threshold  Accuracy    Recall\n",
       "33       0.34  1.000000  1.000000\n",
       "34       0.35  1.000000  1.000000\n",
       "35       0.36  1.000000  1.000000\n",
       "36       0.37  1.000000  1.000000\n",
       "29       0.30  0.997802  1.000000\n",
       "..        ...       ...       ...\n",
       "95       0.96  0.912088  0.764706\n",
       "96       0.97  0.885714  0.694118\n",
       "97       0.98  0.874725  0.664706\n",
       "98       0.99  0.854945  0.611765\n",
       "99       1.00  0.626374  0.000000\n",
       "\n",
       "[100 rows x 3 columns]"
      ]
     },
     "execution_count": 25,
     "metadata": {},
     "output_type": "execute_result"
    }
   ],
   "source": [
    "model = RandomForestClassifier(random_state=1, n_jobs=-1, n_estimators=500, \n",
    "                               max_features=0.4, bootstrap=True, max_depth=6, max_leaf_nodes=500).fit(X_train, y_train)\n",
    "\n",
    "prob = model.predict_proba(X_train)[:,1] \n",
    "results = pd.DataFrame(columns=['Threshold', 'Accuracy', 'Recall'])\n",
    "\n",
    "for t in np.arange(0.01, 1.01, 0.01):\n",
    "  pred = np.where(prob > t, 1, 0)\n",
    "  accuracy = accuracy_score(y_train, pred)\n",
    "  recall = recall_score(y_train, pred)\n",
    "  results = pd.concat([results, pd.DataFrame({'Threshold':t, 'Accuracy':accuracy, 'Recall':recall}, \n",
    "                                             index=[0])]).reset_index(drop=True)\n",
    "\n",
    "results.sort_values(['Recall', 'Accuracy'], ascending=False)\n",
    "\n",
    "#0.18 gives 97.6% recall and 97.3% accuracy\n",
    "#0.02 gives 100% recall and 83.3% accuracy"
   ]
  },
  {
   "cell_type": "code",
   "execution_count": 7,
   "metadata": {
    "scrolled": true
   },
   "outputs": [
    {
     "data": {
      "text/plain": [
       "[<matplotlib.lines.Line2D at 0x7faed772c8d0>]"
      ]
     },
     "execution_count": 7,
     "metadata": {},
     "output_type": "execute_result"
    },
    {
     "data": {
      "image/png": "[encoded data removed]",
      "text/plain": [
       "<Figure size 432x288 with 1 Axes>"
      ]
     },
     "metadata": {
      "needs_background": "light"
     },
     "output_type": "display_data"
    }
   ],
   "source": [
    "plt.plot(results['Threshold'], results['Accuracy'])\n",
    "plt.plot(results['Threshold'], results['Recall'])"
   ]
  },
  {
   "cell_type": "code",
   "execution_count": 27,
   "metadata": {},
   "outputs": [
    {
     "name": "stdout",
     "output_type": "stream",
     "text": [
      "Accuracy:  94.73684210526315\n",
      "Recall:  0.9047619047619048\n"
     ]
    }
   ],
   "source": [
    "thr = 0.34\n",
    "y_pred_prob = model.predict_proba(X_test)[:,1] \n",
    "\n",
    "y_pred = y_pred_prob > thr\n",
    "y_pred = y_pred.astype(int)\n",
    "\n",
    "print(\"Accuracy: \",accuracy_score(y_pred, y_test)*100)  \n",
    "print(\"Recall: \", recall_score(y_test, y_pred))"
   ]
  },
  {
   "cell_type": "markdown",
   "metadata": {},
   "source": [
    "## ADA Boost"
   ]
  },
  {
   "cell_type": "code",
   "execution_count": 79,
   "metadata": {
    "colab": {
     "base_uri": "https://localhost:8080/"
    },
    "id": "n2HGGznDAiVa",
    "outputId": "680ce577-fec8-45df-da5f-75073f27644e"
   },
   "outputs": [
    {
     "name": "stdout",
     "output_type": "stream",
     "text": [
      "Fitting 5 folds for each of 100 candidates, totalling 500 fits\n"
     ]
    },
    {
     "name": "stderr",
     "output_type": "stream",
     "text": [
      "/usr/local/lib/python3.10/dist-packages/sklearn/ensemble/_base.py:166: FutureWarning: `base_estimator` was renamed to `estimator` in version 1.2 and will be removed in 1.4.\n",
      "  warnings.warn(\n"
     ]
    },
    {
     "name": "stdout",
     "output_type": "stream",
     "text": [
      "Best: 0.982418 using {'base_estimator': DecisionTreeClassifier(max_depth=1), 'learning_rate': 1.0, 'n_estimators': 200}\n"
     ]
    }
   ],
   "source": [
    "# ADA BOOST COARSE GRID\n",
    "model = AdaBoostClassifier(random_state=1)\n",
    "grid = dict()\n",
    "grid['n_estimators'] = [10, 50, 100,200,500]\n",
    "grid['learning_rate'] = [0.0001, 0.001, 0.01,0.1, 1.0]\n",
    "grid['base_estimator'] = [DecisionTreeClassifier(max_depth=1), DecisionTreeClassifier(max_depth=2), \n",
    "                          DecisionTreeClassifier(max_depth=3),DecisionTreeClassifier(max_depth=4)]\n",
    "\n",
    "# define the evaluation procedure\n",
    "cv = KFold(n_splits=5, shuffle=True, random_state=1)\n",
    "# define the grid search procedure\n",
    "grid_search = GridSearchCV(estimator=model, param_grid=grid, n_jobs=-1, cv=cv, \n",
    "                          verbose = True, scoring=['accuracy', 'recall'], refit='accuracy')\n",
    "# execute the grid search\n",
    "grid_result = grid_search.fit(X_train, y_train)\n",
    "# summarize the best score and configuration\n",
    "print(\"Best: %f using %s\" % (grid_result.best_score_, grid_result.best_params_))\n",
    "# summarize all scores that were evaluated\n",
    "\n",
    "params = grid_result.cv_results_['params']\n"
   ]
  },
  {
   "cell_type": "code",
   "execution_count": 19,
   "metadata": {
    "colab": {
     "base_uri": "https://localhost:8080/",
     "height": 419
    },
    "id": "2eulEHkpDhT8",
    "outputId": "b6bb9bd9-685e-46a1-acd1-2789f3f13203"
   },
   "outputs": [
    {
     "data": {
      "text/html": [
       "<div>\n",
       "<style scoped>\n",
       "    .dataframe tbody tr th:only-of-type {\n",
       "        vertical-align: middle;\n",
       "    }\n",
       "\n",
       "    .dataframe tbody tr th {\n",
       "        vertical-align: top;\n",
       "    }\n",
       "\n",
       "    .dataframe thead th {\n",
       "        text-align: right;\n",
       "    }\n",
       "</style>\n",
       "<table border=\"1\" class=\"dataframe\">\n",
       "  <thead>\n",
       "    <tr style=\"text-align: right;\">\n",
       "      <th></th>\n",
       "      <th>Threshold</th>\n",
       "      <th>Accuracy</th>\n",
       "      <th>Recall</th>\n",
       "    </tr>\n",
       "  </thead>\n",
       "  <tbody>\n",
       "    <tr>\n",
       "      <th>44</th>\n",
       "      <td>0.45</td>\n",
       "      <td>1.000000</td>\n",
       "      <td>1.0</td>\n",
       "    </tr>\n",
       "    <tr>\n",
       "      <th>45</th>\n",
       "      <td>0.46</td>\n",
       "      <td>1.000000</td>\n",
       "      <td>1.0</td>\n",
       "    </tr>\n",
       "    <tr>\n",
       "      <th>46</th>\n",
       "      <td>0.47</td>\n",
       "      <td>1.000000</td>\n",
       "      <td>1.0</td>\n",
       "    </tr>\n",
       "    <tr>\n",
       "      <th>47</th>\n",
       "      <td>0.48</td>\n",
       "      <td>1.000000</td>\n",
       "      <td>1.0</td>\n",
       "    </tr>\n",
       "    <tr>\n",
       "      <th>48</th>\n",
       "      <td>0.49</td>\n",
       "      <td>1.000000</td>\n",
       "      <td>1.0</td>\n",
       "    </tr>\n",
       "    <tr>\n",
       "      <th>...</th>\n",
       "      <td>...</td>\n",
       "      <td>...</td>\n",
       "      <td>...</td>\n",
       "    </tr>\n",
       "    <tr>\n",
       "      <th>95</th>\n",
       "      <td>0.96</td>\n",
       "      <td>0.626374</td>\n",
       "      <td>0.0</td>\n",
       "    </tr>\n",
       "    <tr>\n",
       "      <th>96</th>\n",
       "      <td>0.97</td>\n",
       "      <td>0.626374</td>\n",
       "      <td>0.0</td>\n",
       "    </tr>\n",
       "    <tr>\n",
       "      <th>97</th>\n",
       "      <td>0.98</td>\n",
       "      <td>0.626374</td>\n",
       "      <td>0.0</td>\n",
       "    </tr>\n",
       "    <tr>\n",
       "      <th>98</th>\n",
       "      <td>0.99</td>\n",
       "      <td>0.626374</td>\n",
       "      <td>0.0</td>\n",
       "    </tr>\n",
       "    <tr>\n",
       "      <th>99</th>\n",
       "      <td>1.00</td>\n",
       "      <td>0.626374</td>\n",
       "      <td>0.0</td>\n",
       "    </tr>\n",
       "  </tbody>\n",
       "</table>\n",
       "<p>100 rows × 3 columns</p>\n",
       "</div>"
      ],
      "text/plain": [
       "    Threshold  Accuracy  Recall\n",
       "44       0.45  1.000000     1.0\n",
       "45       0.46  1.000000     1.0\n",
       "46       0.47  1.000000     1.0\n",
       "47       0.48  1.000000     1.0\n",
       "48       0.49  1.000000     1.0\n",
       "..        ...       ...     ...\n",
       "95       0.96  0.626374     0.0\n",
       "96       0.97  0.626374     0.0\n",
       "97       0.98  0.626374     0.0\n",
       "98       0.99  0.626374     0.0\n",
       "99       1.00  0.626374     0.0\n",
       "\n",
       "[100 rows x 3 columns]"
      ]
     },
     "execution_count": 19,
     "metadata": {},
     "output_type": "execute_result"
    }
   ],
   "source": [
    "model = AdaBoostClassifier(DecisionTreeClassifier(max_depth=1), learning_rate=1, n_estimators=200).fit(X_train, y_train)\n",
    "\n",
    "prob = model.predict_proba(X_train)[:,1] \n",
    "results = pd.DataFrame(columns=['Threshold', 'Accuracy', 'Recall'])\n",
    "\n",
    "for t in np.arange(0.01, 1.01, 0.01):\n",
    "  pred = np.where(prob > t, 1, 0)\n",
    "  accuracy = accuracy_score(y_train, pred)\n",
    "  recall = recall_score(y_train, pred)\n",
    "  results = pd.concat([results, pd.DataFrame({'Threshold':t, 'Accuracy':accuracy, 'Recall':recall}, \n",
    "                                             index=[0])]).reset_index(drop=True)\n",
    "\n",
    "results.sort_values(['Recall', 'Accuracy'], ascending=False)\n",
    "\n",
    "#Threshold 0.45 gives accuracy 96.5% with 100% recall - best "
   ]
  },
  {
   "cell_type": "code",
   "execution_count": 10,
   "metadata": {
    "colab": {
     "base_uri": "https://localhost:8080/"
    },
    "id": "p7xwexdMEN4m",
    "outputId": "585490bd-76a1-4a76-86dd-f8ea8296c9b5"
   },
   "outputs": [
    {
     "name": "stdout",
     "output_type": "stream",
     "text": [
      "Fitting 5 folds for each of 20 candidates, totalling 100 fits\n",
      "Best: 0.982418 using {'base_estimator': DecisionTreeClassifier(max_depth=1), 'learning_rate': 1.0, 'n_estimators': 180}\n"
     ]
    }
   ],
   "source": [
    "# ADA BOOST FINE GRID SEARCH\n",
    "model = AdaBoostClassifier(random_state=1)\n",
    "grid = dict()\n",
    "grid['n_estimators'] = np.arange(100, 300, 10)\n",
    "grid['learning_rate'] = [1.0]\n",
    "grid['base_estimator'] = [DecisionTreeClassifier(max_depth=1)]\n",
    "\n",
    "# define the evaluation procedure\n",
    "cv = KFold(n_splits=5, shuffle=True, random_state=1)\n",
    "# define the grid search procedure\n",
    "grid_search = GridSearchCV(model, param_grid=grid, n_jobs=-1, cv=cv, \n",
    "                          verbose = True, scoring=['accuracy', 'recall'], refit='accuracy')\n",
    "# execute the grid search\n",
    "grid_result = grid_search.fit(X_train, y_train)\n",
    "# summarize the best score and configuration\n",
    "print(\"Best: %f using %s\" % (grid_result.best_score_, grid_result.best_params_))\n",
    "# summarize all scores that were evaluated\n",
    "\n",
    "params = grid_result.cv_results_['params']"
   ]
  },
  {
   "cell_type": "code",
   "execution_count": 16,
   "metadata": {
    "colab": {
     "base_uri": "https://localhost:8080/",
     "height": 419
    },
    "id": "_90yidzvFken",
    "outputId": "52cf5a37-9172-4379-ad0b-ea356c3734af"
   },
   "outputs": [
    {
     "data": {
      "text/html": [
       "<div>\n",
       "<style scoped>\n",
       "    .dataframe tbody tr th:only-of-type {\n",
       "        vertical-align: middle;\n",
       "    }\n",
       "\n",
       "    .dataframe tbody tr th {\n",
       "        vertical-align: top;\n",
       "    }\n",
       "\n",
       "    .dataframe thead th {\n",
       "        text-align: right;\n",
       "    }\n",
       "</style>\n",
       "<table border=\"1\" class=\"dataframe\">\n",
       "  <thead>\n",
       "    <tr style=\"text-align: right;\">\n",
       "      <th></th>\n",
       "      <th>Threshold</th>\n",
       "      <th>Accuracy</th>\n",
       "      <th>Recall</th>\n",
       "    </tr>\n",
       "  </thead>\n",
       "  <tbody>\n",
       "    <tr>\n",
       "      <th>44</th>\n",
       "      <td>0.45</td>\n",
       "      <td>1.000000</td>\n",
       "      <td>1.0</td>\n",
       "    </tr>\n",
       "    <tr>\n",
       "      <th>45</th>\n",
       "      <td>0.46</td>\n",
       "      <td>1.000000</td>\n",
       "      <td>1.0</td>\n",
       "    </tr>\n",
       "    <tr>\n",
       "      <th>46</th>\n",
       "      <td>0.47</td>\n",
       "      <td>1.000000</td>\n",
       "      <td>1.0</td>\n",
       "    </tr>\n",
       "    <tr>\n",
       "      <th>47</th>\n",
       "      <td>0.48</td>\n",
       "      <td>1.000000</td>\n",
       "      <td>1.0</td>\n",
       "    </tr>\n",
       "    <tr>\n",
       "      <th>48</th>\n",
       "      <td>0.49</td>\n",
       "      <td>1.000000</td>\n",
       "      <td>1.0</td>\n",
       "    </tr>\n",
       "    <tr>\n",
       "      <th>...</th>\n",
       "      <td>...</td>\n",
       "      <td>...</td>\n",
       "      <td>...</td>\n",
       "    </tr>\n",
       "    <tr>\n",
       "      <th>95</th>\n",
       "      <td>0.96</td>\n",
       "      <td>0.626374</td>\n",
       "      <td>0.0</td>\n",
       "    </tr>\n",
       "    <tr>\n",
       "      <th>96</th>\n",
       "      <td>0.97</td>\n",
       "      <td>0.626374</td>\n",
       "      <td>0.0</td>\n",
       "    </tr>\n",
       "    <tr>\n",
       "      <th>97</th>\n",
       "      <td>0.98</td>\n",
       "      <td>0.626374</td>\n",
       "      <td>0.0</td>\n",
       "    </tr>\n",
       "    <tr>\n",
       "      <th>98</th>\n",
       "      <td>0.99</td>\n",
       "      <td>0.626374</td>\n",
       "      <td>0.0</td>\n",
       "    </tr>\n",
       "    <tr>\n",
       "      <th>99</th>\n",
       "      <td>1.00</td>\n",
       "      <td>0.626374</td>\n",
       "      <td>0.0</td>\n",
       "    </tr>\n",
       "  </tbody>\n",
       "</table>\n",
       "<p>100 rows × 3 columns</p>\n",
       "</div>"
      ],
      "text/plain": [
       "    Threshold  Accuracy  Recall\n",
       "44       0.45  1.000000     1.0\n",
       "45       0.46  1.000000     1.0\n",
       "46       0.47  1.000000     1.0\n",
       "47       0.48  1.000000     1.0\n",
       "48       0.49  1.000000     1.0\n",
       "..        ...       ...     ...\n",
       "95       0.96  0.626374     0.0\n",
       "96       0.97  0.626374     0.0\n",
       "97       0.98  0.626374     0.0\n",
       "98       0.99  0.626374     0.0\n",
       "99       1.00  0.626374     0.0\n",
       "\n",
       "[100 rows x 3 columns]"
      ]
     },
     "execution_count": 16,
     "metadata": {},
     "output_type": "execute_result"
    }
   ],
   "source": [
    "model = AdaBoostClassifier(DecisionTreeClassifier(max_depth=1), learning_rate=1, n_estimators=190).fit(X_train, y_train)\n",
    "\n",
    "prob = model.predict_proba(X_train)[:,1] \n",
    "results = pd.DataFrame(columns=['Threshold', 'Accuracy', 'Recall'])\n",
    "\n",
    "for t in np.arange(0.01, 1.01, 0.01):\n",
    "  pred = np.where(prob > t, 1, 0)\n",
    "  accuracy = accuracy_score(y_train, pred)\n",
    "  recall = recall_score(y_train, pred)\n",
    "  results = pd.concat([results, pd.DataFrame({'Threshold':t, 'Accuracy':accuracy, 'Recall':recall}, \n",
    "                                             index=[0])]).reset_index(drop=True)\n",
    "\n",
    "results.sort_values(['Recall', 'Accuracy'], ascending=False)\n",
    "\n",
    "#Threshold 0.45 gives accuracy 97.3% with 100% recall - best "
   ]
  },
  {
   "cell_type": "code",
   "execution_count": 20,
   "metadata": {},
   "outputs": [
    {
     "data": {
      "text/plain": [
       "[<matplotlib.lines.Line2D at 0x7fb358099940>]"
      ]
     },
     "execution_count": 20,
     "metadata": {},
     "output_type": "execute_result"
    },
    {
     "data": {
      "image/png": "[encoded data removed]",
      "text/plain": [
       "<Figure size 432x288 with 1 Axes>"
      ]
     },
     "metadata": {
      "needs_background": "light"
     },
     "output_type": "display_data"
    }
   ],
   "source": [
    "plt.plot(results['Threshold'], results['Accuracy'])\n",
    "plt.plot(results['Threshold'], results['Recall'])\n"
   ]
  },
  {
   "cell_type": "code",
   "execution_count": 17,
   "metadata": {},
   "outputs": [
    {
     "name": "stdout",
     "output_type": "stream",
     "text": [
      "Accuracy:  97.36842105263158\n",
      "Recall:  1.0\n"
     ]
    }
   ],
   "source": [
    "thr = 0.45\n",
    "y_pred_prob = model.predict_proba(X_test)[:,1] \n",
    "\n",
    "y_pred = y_pred_prob > thr\n",
    "y_pred = y_pred.astype(int)\n",
    "\n",
    "print(\"Accuracy: \",accuracy_score(y_pred, y_test)*100)  \n",
    "print(\"Recall: \", recall_score(y_test, y_pred))"
   ]
  },
  {
   "cell_type": "code",
   "execution_count": null,
   "metadata": {},
   "outputs": [],
   "source": []
  }
 ],
 "metadata": {
  "colab": {
   "provenance": []
  },
  "kernelspec": {
   "display_name": "Python 3 (ipykernel)",
   "language": "python",
   "name": "python3"
  },
  "language_info": {
   "codemirror_mode": {
    "name": "ipython",
    "version": 3
   },
   "file_extension": ".py",
   "mimetype": "text/x-python",
   "name": "python",
   "nbconvert_exporter": "python",
   "pygments_lexer": "ipython3",
   "version": "3.9.12"
  }
 },
 "nbformat": 4,
 "nbformat_minor": 1
}
